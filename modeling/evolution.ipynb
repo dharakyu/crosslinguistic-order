{
 "cells": [
  {
   "cell_type": "code",
   "execution_count": 1,
   "id": "bf3d0444",
   "metadata": {},
   "outputs": [],
   "source": [
    "import numpy as np\n",
    "import matplotlib.pyplot as plt\n",
    "\n",
    "import string\n",
    "\n",
    "from models import ContinuousIncrementalRSA\n",
    "from utils import *\n",
    "import time\n",
    "from tqdm import tqdm\n",
    "\n",
    "import scipy.stats"
   ]
  },
  {
   "cell_type": "markdown",
   "id": "e130efcd",
   "metadata": {},
   "source": [
    "# Iterated RSA\n",
    "## Example 1: fix objects, utterances, semantic values and alpha \n",
    "\n",
    "The approach to modeling convergence to a convention is as follows:\n",
    "\n",
    "- Initialize a `ContinuousIncrementalRSA` object. __This assumes that the objects, utterances, semantic values and alpha are all fixed, which is an assumption that we eventually will want to relax.__\n",
    "- Initialize a list `counts` to keep track of the number of times a particular type of utterance (*adj-noun, noun-adj, adj only, noun only*) is produced by a pragmatic speaker.\n",
    "\n",
    "- For each iteration:\n",
    "    - For a given object, the speaker will produce a probability distribution over utterance types using continuous incremental RSA\n",
    "    - Reweight that distribution by using the normalized version of `counts`\n",
    "    - Sample from the reweighted distribution. \n",
    "    - Increment the utterance type that is sampled in `counts`"
   ]
  },
  {
   "cell_type": "code",
   "execution_count": 2,
   "id": "187f6927",
   "metadata": {},
   "outputs": [],
   "source": [
    "adjectives = [\"red\", \"blue\"]\n",
    "nouns = [\"pin\", \"dress\"]\n",
    "objects = get_all_objects(adjectives, nouns)\n",
    "utterances = get_all_utterances(adjectives, nouns)\n",
    "v_adj = 0.9\n",
    "v_noun = 0.95\n",
    "alpha = 5"
   ]
  },
  {
   "cell_type": "code",
   "execution_count": 3,
   "id": "60716c98",
   "metadata": {},
   "outputs": [],
   "source": [
    "rsa = ContinuousIncrementalRSA(adjectives=adjectives,\n",
    "                                  nouns=nouns,\n",
    "                                  objects=objects,\n",
    "                                  utterances=utterances,\n",
    "                                  v_adj=v_adj,\n",
    "                                  v_noun=v_noun,\n",
    "                                  alpha=alpha)"
   ]
  },
  {
   "cell_type": "code",
   "execution_count": 4,
   "id": "99021660",
   "metadata": {},
   "outputs": [
    {
     "name": "stdout",
     "output_type": "stream",
     "text": [
      "P('red'| red dress) = 0.016801417320292736\n",
      "P('dress'| red dress) = 0.02850679179165062\n",
      "P('red dress'| red dress) = 0.41601972625359535\n",
      "P('dress red'| red dress) = 0.5386552155216565\n"
     ]
    }
   ],
   "source": [
    "p_red = rsa.incremental_pragmatic_speaker({'color':'red', 'shape':'dress', 'string':'red dress'}, 'red')\n",
    "p_dress = rsa.incremental_pragmatic_speaker({'color':'red', 'shape':'dress', 'string':'red dress'}, 'dress')\n",
    "p_red_dress = rsa.incremental_pragmatic_speaker({'color':'red', 'shape':'dress', 'string':'red dress'}, 'red dress')\n",
    "p_dress_red = rsa.incremental_pragmatic_speaker({'color':'red', 'shape':'dress', 'string':'red dress'}, 'dress red')\n",
    "\n",
    "print('P(\\'red\\'| red dress) =', p_red)\n",
    "print('P(\\'dress\\'| red dress) =', p_dress)\n",
    "print('P(\\'red dress\\'| red dress) =', p_red_dress)\n",
    "print('P(\\'dress red\\'| red dress) =', p_dress_red)"
   ]
  },
  {
   "cell_type": "code",
   "execution_count": 5,
   "id": "d19eb571",
   "metadata": {},
   "outputs": [
    {
     "name": "stderr",
     "output_type": "stream",
     "text": [
      "100%|████████████████████████████████████████████████████████████████████████████████| 100/100 [00:00<00:00, 173.78it/s]\n"
     ]
    }
   ],
   "source": [
    "NUM_UTT_TYPES = 4\n",
    "NUM_SIMS = 100\n",
    "NUM_GENS = 300\n",
    "\n",
    "runs = np.zeros(shape=(NUM_UTT_TYPES, NUM_SIMS, NUM_GENS))\n",
    "\n",
    "for sim_idx in tqdm(range(NUM_SIMS)):\n",
    "    start = time.time()\n",
    "    counts = [1, 1, 1, 1]\n",
    "    for gen_idx in range(NUM_GENS):\n",
    "        \n",
    "        #p_red = rsa.incremental_pragmatic_speaker({'color':'red', 'shape':'dress', 'string':'red dress'}, 'red')\n",
    "        #p_dress = rsa.incremental_pragmatic_speaker({'color':'red', 'shape':'dress', 'string':'red dress'}, 'dress')\n",
    "        #p_red_dress = rsa.incremental_pragmatic_speaker({'color':'red', 'shape':'dress', 'string':'red dress'}, 'red dress')\n",
    "        #p_dress_red = rsa.incremental_pragmatic_speaker({'color':'red', 'shape':'dress', 'string':'red dress'}, 'dress red')\n",
    "\n",
    "        utterance_type_prior = [count/sum(counts) for count in counts]\n",
    "        probs = [p_red, p_dress, p_red_dress, p_dress_red]        \n",
    "\n",
    "        #print('P(\\'red\\'| red dress) =', p_red)\n",
    "        #print('P(\\'dress\\'| red dress) =', p_dress)\n",
    "        #print('P(\\'red dress\\'| red dress) =', p_red_dress)\n",
    "        #print('P(\\'dress red\\'| red dress) =', p_dress_red)\n",
    "\n",
    "        denom = sum([utterance_type_prior[i]*probs[i] for i in range(4)])\n",
    "\n",
    "        indices = list(range(4))\n",
    "        normalized_probs = [(utterance_type_prior[i]*probs[i])/denom for i in range(4)]\n",
    "\n",
    "        sample = np.random.choice(indices, p=normalized_probs)\n",
    "        counts[sample] += 1\n",
    "\n",
    "        for utt_idx in range(4):\n",
    "            runs[utt_idx, sim_idx, gen_idx] = normalized_probs[utt_idx]"
   ]
  },
  {
   "cell_type": "code",
   "execution_count": 6,
   "id": "d58e7ec7",
   "metadata": {},
   "outputs": [],
   "source": [
    "means = []\n",
    "stds = []\n",
    "for i in range(4):\n",
    "    mean = np.mean(runs[i], axis=0)\n",
    "    std = np.std(runs[i], axis=0)\n",
    "    means.append(mean)\n",
    "    stds.append(std)"
   ]
  },
  {
   "cell_type": "code",
   "execution_count": 7,
   "id": "5555b047",
   "metadata": {},
   "outputs": [
    {
     "data": {
      "image/png": "[encoded data removed]",
      "text/plain": [
       "<Figure size 432x288 with 1 Axes>"
      ]
     },
     "metadata": {
      "needs_background": "light"
     },
     "output_type": "display_data"
    }
   ],
   "source": [
    "labels = ['adj only', 'noun only', 'adj-noun', 'noun-adj']\n",
    "for i in range(2, 4):\n",
    "    plt.plot(range(len(means[i])), means[i], label=labels[i])\n",
    "    plt.fill_between(range(len(means[i])), means[i]+std[i], means[i]-std[i], alpha=0.1)\n",
    "    \n",
    "plt.legend()\n",
    "plt.title(\"3 adjectives, 3 nouns\")\n",
    "plt.ylim([0, 1])\n",
    "plt.xlabel('generation')\n",
    "plt.ylabel('probability of utterance type')\n",
    "plt.show()"
   ]
  },
  {
   "cell_type": "code",
   "execution_count": 8,
   "id": "73724bfb",
   "metadata": {},
   "outputs": [
    {
     "data": {
      "text/plain": [
       "Text(0, 0.5, 'frequency')"
      ]
     },
     "execution_count": 8,
     "metadata": {},
     "output_type": "execute_result"
    },
    {
     "data": {
      "image/png": "[encoded data removed]",
      "text/plain": [
       "<Figure size 432x288 with 1 Axes>"
      ]
     },
     "metadata": {
      "needs_background": "light"
     },
     "output_type": "display_data"
    }
   ],
   "source": [
    "final_prob_of_noun_adj = runs[3, :, -1]\n",
    "plt.hist(final_prob_of_noun_adj, bins=20, color='orange')\n",
    "plt.ylim([0, 20])\n",
    "plt.xlabel('probability of noun-adj')\n",
    "plt.ylabel('frequency')"
   ]
  },
  {
   "cell_type": "code",
   "execution_count": 9,
   "id": "00ea8ac2",
   "metadata": {},
   "outputs": [
    {
     "data": {
      "text/plain": [
       "21"
      ]
     },
     "execution_count": 9,
     "metadata": {},
     "output_type": "execute_result"
    }
   ],
   "source": [
    "np.sum(final_prob_of_noun_adj < 0.5)"
   ]
  },
  {
   "cell_type": "markdown",
   "id": "aee51872",
   "metadata": {},
   "source": [
    "## Example 2: Sample semantic values"
   ]
  },
  {
   "cell_type": "code",
   "execution_count": 10,
   "id": "31446505",
   "metadata": {},
   "outputs": [
    {
     "data": {
      "image/png": "[encoded data removed]",
      "text/plain": [
       "<Figure size 432x288 with 1 Axes>"
      ]
     },
     "metadata": {
      "needs_background": "light"
     },
     "output_type": "display_data"
    }
   ],
   "source": [
    "samples = np.random.beta(90/2, 10/2, 100000)\n",
    "plt.hist(samples, bins=100)\n",
    "samples = np.random.beta(95/2, 5/2, 100000)\n",
    "plt.hist(samples, bins=100)\n",
    "plt.show()"
   ]
  },
  {
   "cell_type": "code",
   "execution_count": 13,
   "id": "06b6b0d8",
   "metadata": {},
   "outputs": [
    {
     "name": "stderr",
     "output_type": "stream",
     "text": [
      "100%|███████████████████████████████████████████████████████████████████████████████| 1000/1000 [49:18<00:00,  2.96s/it]\n"
     ]
    }
   ],
   "source": [
    "NUM_UTT_TYPES = 4\n",
    "NUM_SIMS = 1000\n",
    "NUM_GENS = 300\n",
    "\n",
    "runs = np.zeros(shape=(NUM_UTT_TYPES, NUM_SIMS, NUM_GENS))\n",
    "\n",
    "for sim_idx in tqdm(range(NUM_SIMS)):\n",
    "    \n",
    "    start = time.time()\n",
    "    counts = [1, 1, 1, 1]\n",
    "    for gen_idx in range(NUM_GENS):\n",
    "        v_adj = np.random.beta(90/2, 10/2)\n",
    "        v_noun = np.random.beta(95/2, 5/2)\n",
    "        rsa = ContinuousIncrementalRSA(adjectives=adjectives,\n",
    "                                  nouns=nouns,\n",
    "                                  objects=objects,\n",
    "                                  utterances=utterances,\n",
    "                                  v_adj=v_adj,\n",
    "                                  v_noun=v_noun,\n",
    "                                  alpha=alpha)\n",
    "        \n",
    "        p_red = rsa.incremental_pragmatic_speaker({'color':'red', 'shape':'dress', 'string':'red dress'}, 'red')\n",
    "        p_dress = rsa.incremental_pragmatic_speaker({'color':'red', 'shape':'dress', 'string':'red dress'}, 'dress')\n",
    "        p_red_dress = rsa.incremental_pragmatic_speaker({'color':'red', 'shape':'dress', 'string':'red dress'}, 'red dress')\n",
    "        p_dress_red = rsa.incremental_pragmatic_speaker({'color':'red', 'shape':'dress', 'string':'red dress'}, 'dress red')\n",
    "\n",
    "        utterance_type_prior = [count/sum(counts) for count in counts]\n",
    "        probs = [p_red, p_dress, p_red_dress, p_dress_red]        \n",
    "\n",
    "        #print('P(\\'red\\'| red dress) =', p_red)\n",
    "        #print('P(\\'dress\\'| red dress) =', p_dress)\n",
    "        #print('P(\\'red dress\\'| red dress) =', p_red_dress)\n",
    "        #print('P(\\'dress red\\'| red dress) =', p_dress_red)\n",
    "\n",
    "        denom = sum([utterance_type_prior[i]*probs[i] for i in range(NUM_UTT_TYPES)])\n",
    "\n",
    "        indices = list(range(NUM_UTT_TYPES))\n",
    "        normalized_probs = [(utterance_type_prior[i]*probs[i])/denom for i in range(NUM_UTT_TYPES)]\n",
    "\n",
    "        sample = np.random.choice(indices, p=normalized_probs)\n",
    "        counts[sample] += 1\n",
    "\n",
    "        for utt_idx in range(NUM_UTT_TYPES):\n",
    "            runs[utt_idx, sim_idx, gen_idx] = normalized_probs[utt_idx]"
   ]
  },
  {
   "cell_type": "code",
   "execution_count": 14,
   "id": "b55e31f9",
   "metadata": {},
   "outputs": [],
   "source": [
    "means = []\n",
    "stds = []\n",
    "for i in range(4):\n",
    "    mean = np.mean(runs[i], axis=0)\n",
    "    std = np.std(runs[i], axis=0)\n",
    "    means.append(mean)\n",
    "    stds.append(std)"
   ]
  },
  {
   "cell_type": "code",
   "execution_count": 30,
   "id": "d4402da6",
   "metadata": {},
   "outputs": [
    {
     "data": {
      "image/png": "[encoded data removed]",
      "text/plain": [
       "<Figure size 432x288 with 1 Axes>"
      ]
     },
     "metadata": {
      "needs_background": "light"
     },
     "output_type": "display_data"
    }
   ],
   "source": [
    "labels = ['red', 'pin', 'red pin', 'pin red']\n",
    "labels = ['adj', 'noun', 'adj-noun', 'noun-adj']\n",
    "for i in range(2, 4):\n",
    "    plt.plot(range(len(means[i])), means[i], label=labels[i])\n",
    "    plt.fill_between(range(len(means[i])), means[i]+std[i], means[i]-std[i], alpha=0.1)\n",
    "    plt.xticks(fontsize=14)\n",
    "    plt.yticks(fontsize=14)\n",
    "    \n",
    "plt.legend(fontsize=14)\n",
    "plt.ylim([0, 1])\n",
    "plt.xlabel('generation', fontsize=14)\n",
    "plt.ylabel('probability of utterance', fontsize=14)\n",
    "plt.savefig('evolution.png')\n",
    "plt.show()"
   ]
  },
  {
   "cell_type": "code",
   "execution_count": 33,
   "id": "221b23bf",
   "metadata": {},
   "outputs": [
    {
     "data": {
      "image/png": "[encoded data removed]",
      "text/plain": [
       "<Figure size 432x288 with 1 Axes>"
      ]
     },
     "metadata": {
      "needs_background": "light"
     },
     "output_type": "display_data"
    }
   ],
   "source": [
    "final_prob_of_noun_adj = runs[3, :, -1]\n",
    "plt.hist(final_prob_of_noun_adj, bins=20, color='orange')\n",
    "#plt.ylim([0, 20])\n",
    "plt.xlim([0, 1])\n",
    "plt.xlabel('P(noun-adj)', fontsize=14)\n",
    "plt.ylabel('frequency', fontsize=14)\n",
    "plt.xticks(fontsize=14)\n",
    "plt.yticks(fontsize=14)\n",
    "plt.show()"
   ]
  },
  {
   "cell_type": "code",
   "execution_count": 18,
   "id": "45cf8142",
   "metadata": {},
   "outputs": [
    {
     "data": {
      "text/plain": [
       "153"
      ]
     },
     "execution_count": 18,
     "metadata": {},
     "output_type": "execute_result"
    }
   ],
   "source": [
    "np.sum(final_prob_of_noun_adj < 0.48)"
   ]
  },
  {
   "cell_type": "code",
   "execution_count": 19,
   "id": "e44ffe1f",
   "metadata": {},
   "outputs": [
    {
     "data": {
      "text/plain": [
       "25"
      ]
     },
     "execution_count": 19,
     "metadata": {},
     "output_type": "execute_result"
    }
   ],
   "source": [
    "np.sum((final_prob_of_noun_adj < 0.52) & (final_prob_of_noun_adj >= 0.48))"
   ]
  },
  {
   "cell_type": "code",
   "execution_count": 20,
   "id": "72c1250e",
   "metadata": {},
   "outputs": [
    {
     "data": {
      "text/plain": [
       "822"
      ]
     },
     "execution_count": 20,
     "metadata": {},
     "output_type": "execute_result"
    }
   ],
   "source": [
    "np.sum(final_prob_of_noun_adj >= 0.52)"
   ]
  },
  {
   "cell_type": "markdown",
   "id": "7d81821f",
   "metadata": {},
   "source": [
    "## Example 3: Sample semantic values and contexts"
   ]
  },
  {
   "cell_type": "code",
   "execution_count": null,
   "id": "ff7977e2",
   "metadata": {},
   "outputs": [],
   "source": [
    "possible_adjectives = ['red', 'orange', 'yellow', 'green', 'blue']\n",
    "possible_nouns = ['dress', 'pin', 'car', 'table', 'boat']"
   ]
  },
  {
   "cell_type": "code",
   "execution_count": null,
   "id": "06879b17",
   "metadata": {},
   "outputs": [],
   "source": [
    "cached_objects = {}\n",
    "cached_utterances = {}\n",
    "for i in range(1, len(possible_adjectives)):\n",
    "    for j in range(1, len(possible_nouns)):\n",
    "        adj_subset = possible_adjectives[:i+1]\n",
    "        noun_subset = possible_nouns[:j+1]\n",
    "        cached_objects[(i, j)] = get_all_objects(adj_subset, noun_subset)\n",
    "        cached_utterances[(i, j)] = get_all_utterances(adj_subset, noun_subset)"
   ]
  },
  {
   "cell_type": "code",
   "execution_count": null,
   "id": "c1388ad9",
   "metadata": {},
   "outputs": [],
   "source": [
    "cached_utterances"
   ]
  },
  {
   "cell_type": "code",
   "execution_count": null,
   "id": "584db201",
   "metadata": {},
   "outputs": [],
   "source": [
    "runs = np.zeros(shape=(4, 100, 300))\n",
    "\n",
    "for sim_idx in tqdm(range(100)):\n",
    "    \n",
    "    start = time.time()\n",
    "    counts = [1, 1, 1, 1]\n",
    "    for gen_idx in range(300):\n",
    "        num_adj = np.random.randint(low=1, high=len(possible_adjectives))\n",
    "        num_noun = np.random.randint(low=1, high=len(possible_nouns))\n",
    "        \n",
    "        adj_subset = possible_adjectives[:num_adj]\n",
    "        noun_subset = possible_nouns[:num_noun]\n",
    "        \n",
    "        objects = cached_objects[(num_adj, num_noun)]\n",
    "        utterances = cached_utterances[(num_adj, num_noun)]\n",
    "        \n",
    "        v_adj = get_v_adj()\n",
    "        v_noun = get_v_noun()\n",
    "        rsa = ContinuousIncrementalRSA(adjectives=adjectives,\n",
    "                                  nouns=nouns,\n",
    "                                  objects=objects,\n",
    "                                  utterances=utterances,\n",
    "                                  v_adj=v_adj,\n",
    "                                  v_noun=v_noun,\n",
    "                                  alpha=alpha)\n",
    "        \n",
    "        p_red = rsa.incremental_pragmatic_speaker({'color':'red', 'shape':'dress', 'string':'red dress'}, 'red')\n",
    "        p_dress = rsa.incremental_pragmatic_speaker({'color':'red', 'shape':'dress', 'string':'red dress'}, 'dress')\n",
    "        p_red_dress = rsa.incremental_pragmatic_speaker({'color':'red', 'shape':'dress', 'string':'red dress'}, 'red dress')\n",
    "        p_dress_red = rsa.incremental_pragmatic_speaker({'color':'red', 'shape':'dress', 'string':'red dress'}, 'dress red')\n",
    "\n",
    "        utterance_type_prior = [count/sum(counts) for count in counts]\n",
    "        probs = [p_red, p_dress, p_red_dress, p_dress_red]        \n",
    "\n",
    "        #print('P(\\'red\\'| red dress) =', p_red)\n",
    "        #print('P(\\'dress\\'| red dress) =', p_dress)\n",
    "        #print('P(\\'red dress\\'| red dress) =', p_red_dress)\n",
    "        #print('P(\\'dress red\\'| red dress) =', p_dress_red)\n",
    "\n",
    "        denom = sum([utterance_type_prior[i]*probs[i] for i in range(4)])\n",
    "\n",
    "        indices = list(range(4))\n",
    "        normalized_probs = [(utterance_type_prior[i]*probs[i])/denom for i in range(4)]\n",
    "\n",
    "        sample = np.random.choice(indices, p=normalized_probs)\n",
    "        counts[sample] += 1\n",
    "\n",
    "        for utt_idx in range(4):\n",
    "            runs[utt_idx, sim_idx, gen_idx] = normalized_probs[utt_idx]"
   ]
  },
  {
   "cell_type": "code",
   "execution_count": null,
   "id": "611911a1",
   "metadata": {},
   "outputs": [],
   "source": [
    "truncated_runs = runs[:, :66, :]\n",
    "truncated_runs.shape"
   ]
  },
  {
   "cell_type": "code",
   "execution_count": null,
   "id": "b5efac9a",
   "metadata": {},
   "outputs": [],
   "source": [
    "means = []\n",
    "stds = []\n",
    "for i in range(4):\n",
    "    mean = np.mean(truncated_runs[i], axis=0)\n",
    "    std = np.std(truncated_runs[i], axis=0)\n",
    "    means.append(mean)\n",
    "    stds.append(std)"
   ]
  },
  {
   "cell_type": "code",
   "execution_count": null,
   "id": "94c42183",
   "metadata": {},
   "outputs": [],
   "source": [
    "labels = ['red', 'pin', 'red pin', 'pin red']\n",
    "for i in range(2, 4):\n",
    "    plt.plot(range(len(means[i])), means[i], label=labels[i])\n",
    "    plt.fill_between(range(len(means[i])), means[i]+std[i], means[i]-std[i], alpha=0.1)\n",
    "    \n",
    "plt.legend()\n",
    "plt.ylim([0, 1])\n",
    "plt.xlabel('generation')\n",
    "plt.ylabel('probability of utterance type')\n",
    "plt.show()"
   ]
  },
  {
   "cell_type": "code",
   "execution_count": null,
   "id": "7c7e7706",
   "metadata": {},
   "outputs": [],
   "source": [
    "final_prob_of_noun_adj = truncated_runs[3, :, -1]\n",
    "plt.hist(final_prob_of_noun_adj, bins=20, color='orange')\n",
    "plt.ylim([0, 20])\n",
    "plt.xlabel('probability of pin red')\n",
    "plt.ylabel('frequency')"
   ]
  },
  {
   "cell_type": "code",
   "execution_count": null,
   "id": "3ae100d3",
   "metadata": {},
   "outputs": [],
   "source": [
    "np.sum(final_prob_of_noun_adj > 0.5)/66"
   ]
  },
  {
   "cell_type": "code",
   "execution_count": null,
   "id": "c813dd5a",
   "metadata": {},
   "outputs": [],
   "source": []
  }
 ],
 "metadata": {
  "kernelspec": {
   "display_name": "Python 3 (ipykernel)",
   "language": "python",
   "name": "python3"
  },
  "language_info": {
   "codemirror_mode": {
    "name": "ipython",
    "version": 3
   },
   "file_extension": ".py",
   "mimetype": "text/x-python",
   "name": "python",
   "nbconvert_exporter": "python",
   "pygments_lexer": "ipython3",
   "version": "3.9.7"
  }
 },
 "nbformat": 4,
 "nbformat_minor": 5
}
