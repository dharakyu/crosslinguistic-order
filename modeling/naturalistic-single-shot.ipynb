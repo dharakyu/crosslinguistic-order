{
 "cells": [
  {
   "cell_type": "code",
   "execution_count": 7,
   "id": "16093505",
   "metadata": {},
   "outputs": [],
   "source": [
    "import numpy as np\n",
    "import matplotlib.pyplot as plt\n",
    "\n",
    "import string\n",
    "import copy\n",
    "import itertools\n",
    "\n",
    "from models import ContinuousIncrementalRSA\n",
    "from utils import *\n",
    "import time\n",
    "from tqdm import tqdm\n",
    "\n",
    "import scipy.stats"
   ]
  },
  {
   "cell_type": "code",
   "execution_count": 15,
   "id": "c96bc123",
   "metadata": {},
   "outputs": [
    {
     "data": {
      "text/plain": [
       "['red',\n",
       " 'green',\n",
       " 'blue',\n",
       " 'purple',\n",
       " 'orange',\n",
       " 'dress',\n",
       " 'skirt',\n",
       " 'red dress',\n",
       " 'dress red',\n",
       " 'red skirt',\n",
       " 'skirt red',\n",
       " 'green dress',\n",
       " 'dress green',\n",
       " 'green skirt',\n",
       " 'skirt green',\n",
       " 'blue dress',\n",
       " 'dress blue',\n",
       " 'blue skirt',\n",
       " 'skirt blue',\n",
       " 'purple dress',\n",
       " 'dress purple',\n",
       " 'purple skirt',\n",
       " 'skirt purple',\n",
       " 'orange dress',\n",
       " 'dress orange',\n",
       " 'orange skirt',\n",
       " 'skirt orange']"
      ]
     },
     "execution_count": 15,
     "metadata": {},
     "output_type": "execute_result"
    }
   ],
   "source": [
    "adjectives = ['red', 'green', 'blue', 'purple', 'orange']\n",
    "nouns = ['dress', 'skirt']\n",
    "objects = [{'color': 'red', 'shape': 'dress', 'string': 'red dress'},\n",
    "            {'color': 'green', 'shape': 'dress', 'string': 'green dress'}, \n",
    "            {'color': 'green', 'shape': 'skirt', 'string': 'green skirt'},\n",
    "            {'color': 'red', 'shape': 'skirt', 'string': 'red skirt'}]\n",
    "utterances = get_all_utterances(adjectives, nouns)\n",
    "utterances"
   ]
  },
  {
   "cell_type": "code",
   "execution_count": 16,
   "id": "8d69f49a",
   "metadata": {},
   "outputs": [],
   "source": [
    "v_adj = 0.95\n",
    "v_noun = 0.99\n",
    "rsa = ContinuousIncrementalRSA(adjectives, nouns, objects, utterances, v_adj=v_adj, v_noun=v_noun)"
   ]
  },
  {
   "cell_type": "code",
   "execution_count": 17,
   "id": "14f66e3a",
   "metadata": {},
   "outputs": [
    {
     "name": "stdout",
     "output_type": "stream",
     "text": [
      "P(red dress) 0.411962769448156\n",
      "P(dress red) 0.45021670318655993\n"
     ]
    }
   ],
   "source": [
    "p_red_dress = rsa.incremental_pragmatic_speaker({'color': 'red', 'shape': 'skirt', 'string': 'red dress'}, \n",
    "                                                'red dress')\n",
    "p_dress_red = rsa.incremental_pragmatic_speaker({'color': 'red', 'shape': 'dress', 'string': 'red dress'}, \n",
    "                                                'dress red')\n",
    "print('P(red dress)', p_red_dress)\n",
    "print('P(dress red)', p_dress_red)"
   ]
  },
  {
   "cell_type": "code",
   "execution_count": 11,
   "id": "13870921",
   "metadata": {},
   "outputs": [
    {
     "name": "stdout",
     "output_type": "stream",
     "text": [
      "P(red skirt) 0.41196276944815624\n",
      "P(skirt red) 0.45021670318655965\n"
     ]
    }
   ],
   "source": [
    "p_red_dress = rsa.incremental_pragmatic_speaker({'color': 'red', 'shape': 'skirt', 'string': 'red skirt'}, \n",
    "                                                'red skirt')\n",
    "p_dress_red = rsa.incremental_pragmatic_speaker({'color': 'red', 'shape': 'skirt', 'string': 'red skirt'}, \n",
    "                                                'skirt red')\n",
    "print('P(red skirt)', p_red_dress)\n",
    "print('P(skirt red)', p_dress_red)"
   ]
  },
  {
   "cell_type": "code",
   "execution_count": 20,
   "id": "fd6bb92f",
   "metadata": {},
   "outputs": [
    {
     "data": {
      "text/plain": [
       "0.04589225027626503"
      ]
     },
     "execution_count": 20,
     "metadata": {},
     "output_type": "execute_result"
    }
   ],
   "source": [
    "rsa.incremental_pragmatic_speaker({'color': 'red', 'shape': 'dress', 'string': 'red dress'}, 'red')"
   ]
  },
  {
   "cell_type": "code",
   "execution_count": 21,
   "id": "dc645e9d",
   "metadata": {},
   "outputs": [
    {
     "data": {
      "text/plain": [
       "0.0663965026162471"
      ]
     },
     "execution_count": 21,
     "metadata": {},
     "output_type": "execute_result"
    }
   ],
   "source": [
    "rsa.incremental_pragmatic_speaker({'color': 'red', 'shape': 'dress', 'string': 'red dress'}, 'dress')"
   ]
  },
  {
   "cell_type": "code",
   "execution_count": null,
   "id": "5e6a77db",
   "metadata": {},
   "outputs": [],
   "source": []
  }
 ],
 "metadata": {
  "kernelspec": {
   "display_name": "Python 3 (ipykernel)",
   "language": "python",
   "name": "python3"
  },
  "language_info": {
   "codemirror_mode": {
    "name": "ipython",
    "version": 3
   },
   "file_extension": ".py",
   "mimetype": "text/x-python",
   "name": "python",
   "nbconvert_exporter": "python",
   "pygments_lexer": "ipython3",
   "version": "3.9.13"
  }
 },
 "nbformat": 4,
 "nbformat_minor": 5
}
