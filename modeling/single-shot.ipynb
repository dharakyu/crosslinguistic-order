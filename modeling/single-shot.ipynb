{
 "cells": [
  {
   "cell_type": "code",
   "execution_count": 1,
   "id": "e7ddad55",
   "metadata": {},
   "outputs": [],
   "source": [
    "import numpy as np\n",
    "import matplotlib.pyplot as plt\n",
    "\n",
    "import string\n",
    "import copy\n",
    "import itertools\n",
    "\n",
    "from models import ContinuousIncrementalRSA\n",
    "from utils import *\n",
    "import time\n",
    "from tqdm import tqdm\n",
    "\n",
    "import scipy.stats"
   ]
  },
  {
   "cell_type": "markdown",
   "id": "68285e21",
   "metadata": {},
   "source": [
    "## Fig. 1a: Vary the informativeness of the adjective by manipulating semantic values"
   ]
  },
  {
   "cell_type": "code",
   "execution_count": 2,
   "id": "94622cfb",
   "metadata": {},
   "outputs": [],
   "source": [
    "semantic_value_range = np.linspace(0.5, 1, num=11)\n",
    "adjectives = [c for c in string.ascii_lowercase[:13]]\n",
    "nouns = [c for c in string.ascii_lowercase[13:]]\n",
    "objects = get_all_objects(adjectives, nouns)\n",
    "utterances = get_all_utterances(adjectives, nouns)"
   ]
  },
  {
   "cell_type": "code",
   "execution_count": 3,
   "id": "9811ec58",
   "metadata": {},
   "outputs": [
    {
     "name": "stdout",
     "output_type": "stream",
     "text": [
      "num adjectives 2 num nouns 3\n"
     ]
    },
    {
     "name": "stderr",
     "output_type": "stream",
     "text": [
      "/Users/dharakyu/Documents/word-ordering/models.py:113: RuntimeWarning: divide by zero encountered in log\n",
      "  val = np.exp(self.alpha * (np.log(utility) - self.cost(curr_utt)))\n",
      "/Users/dharakyu/Documents/word-ordering/models.py:25: RuntimeWarning: invalid value encountered in true_divide\n",
      "  return matrix / totals[:, np.newaxis]\n"
     ]
    },
    {
     "name": "stdout",
     "output_type": "stream",
     "text": [
      "num adjectives 3 num nouns 3\n",
      "num adjectives 4 num nouns 3\n",
      "num adjectives 5 num nouns 3\n"
     ]
    }
   ],
   "source": [
    "all_probs = []\n",
    "for num_adj in range(2, 6):\n",
    "    for num_noun in [3]:\n",
    "        print('num adjectives', num_adj, 'num nouns', num_noun)\n",
    "        \n",
    "        adj_subset = adjectives[:num_adj]\n",
    "        noun_subset = nouns[:num_noun]\n",
    "        \n",
    "        objects = get_all_objects(adj_subset, noun_subset)\n",
    "        utterances = get_all_utterances(adj_subset, noun_subset)\n",
    "        \n",
    "        probs = np.zeros(shape=(len(semantic_value_range), len(semantic_value_range)))\n",
    "        for i in range(len(semantic_value_range)):\n",
    "            for j in range(len(semantic_value_range)):\n",
    "                v_adj = semantic_value_range[i]\n",
    "                v_noun = semantic_value_range[j]\n",
    "\n",
    "                rsa = ContinuousIncrementalRSA(adj_subset, noun_subset, objects, utterances, v_adj=v_adj, v_noun=v_noun)\n",
    "                p_adj_first = rsa.incremental_pragmatic_speaker({'color': 'a', 'shape': 'n', 'string': 'a n'}, 'a n')\n",
    "                p_noun_first = rsa.incremental_pragmatic_speaker({'color': 'a', 'shape': 'n', 'string': 'a n'}, 'n a')\n",
    "\n",
    "                normalized_p_adj_first = p_adj_first / (p_adj_first + p_noun_first)\n",
    "                normalized_p_noun_first = p_noun_first / (p_adj_first + p_noun_first)\n",
    "                probs[i, j] = normalized_p_noun_first\n",
    "\n",
    "        all_probs.append(probs)"
   ]
  },
  {
   "cell_type": "code",
   "execution_count": 32,
   "id": "9b518cee",
   "metadata": {},
   "outputs": [
    {
     "data": {
      "image/png": "[encoded data removed]",
      "text/plain": [
       "<Figure size 1008x288 with 5 Axes>"
      ]
     },
     "metadata": {
      "needs_background": "light"
     },
     "output_type": "display_data"
    }
   ],
   "source": [
    "fig, axs = plt.subplots(1, 4, sharex=True, sharey=True, figsize=(14, 4))\n",
    "for i, ax in enumerate(axs):\n",
    "    im = ax.imshow(all_probs[i], origin='lower', extent=[0.5, 1, 0.5, 1])\n",
    "    ax.set_title(str(i+2)+\" adj, 3 noun\", fontsize=14)\n",
    "    ax.tick_params(labelsize=14)\n",
    "\n",
    "fig.suptitle('Normalized P(noun-adj)', x=0.5, y=0.9, size=16)\n",
    "\n",
    "fig.text(0.5, 0.15, \"referential utility of noun\", ha=\"center\", va=\"center\", fontsize=14)\n",
    "fig.text(0.08, 0.5, \"referential utility of adj\", ha=\"center\", va=\"center\", rotation=90, fontsize=14)\n",
    "cbar = plt.colorbar(im, ax=axs)\n",
    "cbar.ax.tick_params(labelsize=14)\n",
    "plt.savefig('semantic_values.png')"
   ]
  },
  {
   "cell_type": "markdown",
   "id": "b37aaaa6",
   "metadata": {},
   "source": [
    "## Fig. 1b: Vary the informativeness of the adjective by manipulating the number of duplicates\n",
    "\n",
    "Assume fixed semantic values $v_{\\text{adj}} = 0.9, v_{\\text{noun}} = 0.95$"
   ]
  },
  {
   "cell_type": "code",
   "execution_count": 5,
   "id": "35852d04",
   "metadata": {},
   "outputs": [
    {
     "data": {
      "text/plain": [
       "[{'color': 'red', 'shape': 'pin', 'string': 'red pin'},\n",
       " {'color': 'red', 'shape': 'dress', 'string': 'red dress'},\n",
       " {'color': 'red', 'shape': 'truck', 'string': 'red truck'},\n",
       " {'color': 'blue', 'shape': 'pin', 'string': 'blue pin'},\n",
       " {'color': 'blue', 'shape': 'dress', 'string': 'blue dress'},\n",
       " {'color': 'blue', 'shape': 'truck', 'string': 'blue truck'},\n",
       " {'color': 'green', 'shape': 'pin', 'string': 'green pin'},\n",
       " {'color': 'green', 'shape': 'dress', 'string': 'green dress'},\n",
       " {'color': 'green', 'shape': 'truck', 'string': 'green truck'}]"
      ]
     },
     "execution_count": 5,
     "metadata": {},
     "output_type": "execute_result"
    }
   ],
   "source": [
    "adjectives = [\"red\", \"blue\", \"green\"]\n",
    "nouns = [\"pin\", \"dress\", \"truck\"]\n",
    "objects = get_all_objects(adjectives, nouns)\n",
    "utterances = get_all_utterances(adjectives, nouns)\n",
    "objects"
   ]
  },
  {
   "cell_type": "code",
   "execution_count": 6,
   "id": "404779e1",
   "metadata": {},
   "outputs": [
    {
     "data": {
      "text/plain": [
       "{'red pin': array([[0., 0.],\n",
       "        [0., 0.],\n",
       "        [0., 0.],\n",
       "        [0., 0.],\n",
       "        [0., 0.]]),\n",
       " 'blue pin': array([[0., 0.],\n",
       "        [0., 0.],\n",
       "        [0., 0.],\n",
       "        [0., 0.],\n",
       "        [0., 0.]]),\n",
       " 'red dress': array([[0., 0.],\n",
       "        [0., 0.],\n",
       "        [0., 0.],\n",
       "        [0., 0.],\n",
       "        [0., 0.]]),\n",
       " 'green truck': array([[0., 0.],\n",
       "        [0., 0.],\n",
       "        [0., 0.],\n",
       "        [0., 0.],\n",
       "        [0., 0.]])}"
      ]
     },
     "execution_count": 6,
     "metadata": {},
     "output_type": "execute_result"
    }
   ],
   "source": [
    "objs_to_visualize = [{'color': 'red', 'shape': 'pin', 'string': 'red pin'},\n",
    "                     {'color': 'blue', 'shape': 'pin', 'string': 'blue pin'},\n",
    "                     {'color': 'red', 'shape': 'dress', 'string': 'red dress'},\n",
    "                     {'color': 'green', 'shape': 'truck', 'string': 'green truck'}\n",
    "                    ]\n",
    "obj_names = [obj['string'] for obj in objs_to_visualize]\n",
    "max_num_duplicates = 5\n",
    "num_utt_types = 2\n",
    "probs_map = {obj: np.zeros(shape=(max_num_duplicates, num_utt_types)) for obj in obj_names}\n",
    "probs_map"
   ]
  },
  {
   "cell_type": "code",
   "execution_count": 7,
   "id": "ad2aea9d",
   "metadata": {},
   "outputs": [
    {
     "name": "stdout",
     "output_type": "stream",
     "text": [
      "Num duplicates 0\n",
      "Num duplicates 1\n",
      "Num duplicates 2\n",
      "Num duplicates 3\n",
      "Num duplicates 4\n"
     ]
    }
   ],
   "source": [
    "for dup_idx in range(max_num_duplicates):\n",
    "    objects_copy = copy.deepcopy(objects)\n",
    "    for _ in range(dup_idx):\n",
    "        objects_copy.append({'color': 'red', 'shape': 'pin', 'string': 'red pin'})\n",
    "    print('Num duplicates', dup_idx)\n",
    "    rsa = ContinuousIncrementalRSA(adjectives=adjectives,\n",
    "                                    nouns=nouns,\n",
    "                                    objects=objects_copy,\n",
    "                                    utterances=utterances,\n",
    "                                )\n",
    "    \n",
    "    for obj_idx, obj in enumerate(objs_to_visualize):\n",
    "        tokens = [obj['color'], obj['shape']]\n",
    "        options = list(itertools.permutations(tokens))\n",
    "\n",
    "        for utt_idx, option in enumerate(options):\n",
    "            utt = \" \".join(option)\n",
    "            #print(utt)\n",
    "            p = rsa.incremental_pragmatic_speaker(obj, utt)\n",
    "            #print(p)\n",
    "            probs_map[obj['string']][dup_idx][utt_idx] = p"
   ]
  },
  {
   "cell_type": "code",
   "execution_count": 8,
   "id": "41470e20",
   "metadata": {},
   "outputs": [
    {
     "data": {
      "text/plain": [
       "{'red pin': array([[0.39939628, 0.59474946],\n",
       "        [0.4123912 , 0.55372507],\n",
       "        [0.40991236, 0.51472985],\n",
       "        [0.4008375 , 0.48078901],\n",
       "        [0.389797  , 0.45253989]]),\n",
       " 'blue pin': array([[0.39939628, 0.59474946],\n",
       "        [0.71420359, 0.28144066],\n",
       "        [0.8709885 , 0.12361111],\n",
       "        [0.93525714, 0.05822636],\n",
       "        [0.96229084, 0.03013005]]),\n",
       " 'red dress': array([[0.39939628, 0.59474946],\n",
       "        [0.15402608, 0.83991307],\n",
       "        [0.06134419, 0.93193643],\n",
       "        [0.02730101, 0.96556845],\n",
       "        [0.01349777, 0.9790777 ]]),\n",
       " 'green truck': array([[0.39939628, 0.59474946],\n",
       "        [0.38472878, 0.60956988],\n",
       "        [0.37052011, 0.62391382],\n",
       "        [0.35677453, 0.63777964],\n",
       "        [0.3434933 , 0.65116829]])}"
      ]
     },
     "execution_count": 8,
     "metadata": {},
     "output_type": "execute_result"
    }
   ],
   "source": [
    "probs_map"
   ]
  },
  {
   "cell_type": "code",
   "execution_count": 9,
   "id": "9e824dae",
   "metadata": {},
   "outputs": [],
   "source": [
    "normalized_probs_map = {}\n",
    "for key, val in probs_map.items():\n",
    "    normalized_val = np.sum(val, axis=1)\n",
    "    normalized_val = normalized_val[:, np.newaxis]\n",
    "    normalized_probs = val / normalized_val\n",
    "    normalized_probs_map[key] = normalized_probs"
   ]
  },
  {
   "cell_type": "code",
   "execution_count": 10,
   "id": "f7ff7eb5",
   "metadata": {},
   "outputs": [
    {
     "name": "stderr",
     "output_type": "stream",
     "text": [
      "/var/folders/wh/tk6j12kd7jq5djbxfn93wjdm0000gn/T/ipykernel_94234/1689814288.py:8: UserWarning: FixedFormatter should only be used together with FixedLocator\n",
      "  row_ax.set_xticklabels(x_labels, rotation=60)\n"
     ]
    },
    {
     "data": {
      "image/png": "[encoded data removed]",
      "text/plain": [
       "<Figure size 288x576 with 4 Axes>"
      ]
     },
     "metadata": {
      "needs_background": "light"
     },
     "output_type": "display_data"
    }
   ],
   "source": [
    "fig, axs = plt.subplots(4, 1, sharex=True, sharey=True, figsize=(4, 8))\n",
    "for obj_idx, row_ax in enumerate(axs):\n",
    "    obj_name = obj_names[obj_idx]\n",
    "    vals_for_hist = normalized_probs_map[obj_name][:, -1]\n",
    "    x_labels = [str(i) + ' dups.' for i in range(5)]\n",
    "    row_ax.bar(x_labels, vals_for_hist)\n",
    "    row_ax.axhline(y=0.5, ls='--', c='black', zorder=1)\n",
    "    row_ax.set_xticklabels(x_labels, rotation=60)\n",
    "    row_ax.set_ylabel(\"obj=\" + obj_name)\n",
    "fig.suptitle('Normalized P(noun first | obj)', fontsize=16, x=0.5, y=0.93)\n",
    "plt.savefig('duplicates.png')"
   ]
  },
  {
   "cell_type": "code",
   "execution_count": null,
   "id": "4a8cfa8d",
   "metadata": {},
   "outputs": [],
   "source": []
  }
 ],
 "metadata": {
  "kernelspec": {
   "display_name": "Python 3 (ipykernel)",
   "language": "python",
   "name": "python3"
  },
  "language_info": {
   "codemirror_mode": {
    "name": "ipython",
    "version": 3
   },
   "file_extension": ".py",
   "mimetype": "text/x-python",
   "name": "python",
   "nbconvert_exporter": "python",
   "pygments_lexer": "ipython3",
   "version": "3.9.7"
  }
 },
 "nbformat": 4,
 "nbformat_minor": 5
}
