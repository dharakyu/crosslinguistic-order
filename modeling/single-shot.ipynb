{
 "cells": [
  {
   "cell_type": "code",
   "execution_count": 1,
   "id": "e7ddad55",
   "metadata": {},
   "outputs": [],
   "source": [
    "import numpy as np\n",
    "import matplotlib.pyplot as plt\n",
    "from mpl_toolkits.axes_grid1 import make_axes_locatable\n",
    "\n",
    "import string\n",
    "import copy\n",
    "import itertools\n",
    "\n",
    "from models import ContinuousIncrementalRSA\n",
    "from utils import *\n",
    "import time\n",
    "from tqdm import tqdm"
   ]
  },
  {
   "cell_type": "markdown",
   "id": "68285e21",
   "metadata": {},
   "source": [
    "## Fig. 1a: Manipulating inherent informativeness and contextual informativeness"
   ]
  },
  {
   "cell_type": "code",
   "execution_count": 2,
   "id": "94622cfb",
   "metadata": {},
   "outputs": [],
   "source": [
    "semantic_value_range = np.linspace(0.5, 1, num=11)\n",
    "adjectives = [c for c in string.ascii_lowercase[:13]]\n",
    "nouns = [c for c in string.ascii_lowercase[13:]]"
   ]
  },
  {
   "cell_type": "code",
   "execution_count": 3,
   "id": "9811ec58",
   "metadata": {},
   "outputs": [
    {
     "name": "stdout",
     "output_type": "stream",
     "text": [
      "num adjectives 2 num nouns 3\n",
      "num adjectives 3 num nouns 3\n",
      "num adjectives 4 num nouns 3\n",
      "num adjectives 5 num nouns 3\n"
     ]
    }
   ],
   "source": [
    "all_probs = []\n",
    "for num_adj in range(2, 6):\n",
    "    for num_noun in [3]:\n",
    "        print('num adjectives', num_adj, 'num nouns', num_noun)\n",
    "        \n",
    "        adj_subset = adjectives[:num_adj]\n",
    "        noun_subset = nouns[:num_noun]\n",
    "        \n",
    "        objects = get_all_objects(adj_subset, noun_subset)\n",
    "        utterances = get_all_utterances(adj_subset, noun_subset)\n",
    "        \n",
    "        probs = np.zeros(shape=(len(semantic_value_range), len(semantic_value_range)))\n",
    "        for i in range(len(semantic_value_range)):\n",
    "            for j in range(len(semantic_value_range)):\n",
    "                v_adj = semantic_value_range[i]\n",
    "                v_noun = semantic_value_range[j]\n",
    "\n",
    "                rsa = ContinuousIncrementalRSA(adj_subset, noun_subset, objects, utterances, v_adj=v_adj, v_noun=v_noun)\n",
    "                p_adj_first = rsa.incremental_pragmatic_speaker({'color': 'a', 'shape': 'n', 'string': 'a n'}, 'a n')\n",
    "                p_noun_first = rsa.incremental_pragmatic_speaker({'color': 'a', 'shape': 'n', 'string': 'a n'}, 'n a')\n",
    "\n",
    "                normalized_p_adj_first = p_adj_first / (p_adj_first + p_noun_first)\n",
    "                normalized_p_noun_first = p_noun_first / (p_adj_first + p_noun_first)\n",
    "                probs[i, j] = normalized_p_noun_first\n",
    "\n",
    "        all_probs.append(probs)"
   ]
  },
  {
   "cell_type": "code",
   "execution_count": 4,
   "id": "233c653d",
   "metadata": {},
   "outputs": [
    {
     "data": {
      "text/plain": [
       "array([0.5 , 0.55, 0.6 , 0.65, 0.7 , 0.75, 0.8 , 0.85, 0.9 , 0.95, 1.  ])"
      ]
     },
     "execution_count": 4,
     "metadata": {},
     "output_type": "execute_result"
    }
   ],
   "source": [
    "np.arange(0.5, 1.05, 0.05)"
   ]
  },
  {
   "cell_type": "code",
   "execution_count": 17,
   "id": "a1b805de",
   "metadata": {},
   "outputs": [
    {
     "data": {
      "text/plain": [
       "array([[0.44444444, 0.46273382, 0.52084031, 0.61078969, 0.71087407,\n",
       "        0.80001238, 0.86830705, 0.91589312, 0.94724767, 0.96727081,\n",
       "        0.97984121],\n",
       "       [0.42690427, 0.44505081, 0.50302879, 0.59373171, 0.69603458,\n",
       "        0.78839577, 0.85996862, 0.91025935, 0.94358643, 0.96494875,\n",
       "        0.97839157],\n",
       "       [0.36785951, 0.38517178, 0.44155623, 0.53307091, 0.64143038,\n",
       "        0.74429198, 0.82752105, 0.88794764, 0.92891409, 0.9555711 ,\n",
       "        0.9725081 ],\n",
       "       [0.27608128, 0.29104715, 0.34129513, 0.42795362, 0.53964115,\n",
       "        0.65604467, 0.75868353, 0.83851998, 0.89542849, 0.93374649,\n",
       "        0.95864305],\n",
       "       [0.18112405, 0.19229834, 0.23104839, 0.30257067, 0.40468401,\n",
       "        0.52518581, 0.645789  , 0.75070079, 0.83237016, 0.89098055,\n",
       "        0.93075534],\n",
       "       [0.10723724, 0.11448452, 0.14027482, 0.19066455, 0.26961116,\n",
       "        0.37524442, 0.4974913 , 0.62051475, 0.72946188, 0.81610321,\n",
       "        0.87950121],\n",
       "       [0.05937994, 0.06362078, 0.07897369, 0.11016465, 0.16247134,\n",
       "        0.23991641, 0.34222608, 0.46216678, 0.58626242, 0.69989654,\n",
       "        0.79320471],\n",
       "       [0.03150058, 0.03382075, 0.04230689, 0.05995919, 0.09086277,\n",
       "        0.13987542, 0.21138869, 0.30686699, 0.42198022, 0.54577626,\n",
       "        0.66399867],\n",
       "       [0.0161915 , 0.01740385, 0.02186382, 0.031265  , 0.04813696,\n",
       "        0.07603045, 0.11943491, 0.18301933, 0.26975512, 0.37810567,\n",
       "        0.49998728],\n",
       "       [0.00808248, 0.00869281, 0.01094528, 0.01572719, 0.02442586,\n",
       "        0.03914492, 0.06292634, 0.09983791, 0.15461318, 0.23136872,\n",
       "        0.33113568],\n",
       "       [0.0039047 , 0.0042008 , 0.0052955 , 0.00762814, 0.0119015 ,\n",
       "        0.01922215, 0.03129432, 0.05065413, 0.0808694 , 0.12649367,\n",
       "        0.19235543]])"
      ]
     },
     "execution_count": 17,
     "metadata": {},
     "output_type": "execute_result"
    }
   ],
   "source": [
    "all_probs[i]"
   ]
  },
  {
   "cell_type": "code",
   "execution_count": 27,
   "id": "9b518cee",
   "metadata": {},
   "outputs": [
    {
     "data": {
      "image/png": "[encoded data removed]",
      "text/plain": [
       "<Figure size 1000x250 with 5 Axes>"
      ]
     },
     "metadata": {},
     "output_type": "display_data"
    }
   ],
   "source": [
    "fig, axs = plt.subplots(1, 4, sharex=True, sharey=True, figsize=(10, 2.5))\n",
    "#for i in range(2):\n",
    "    #for j in range(2):\n",
    "for i, ax in enumerate(axs):\n",
    "        #ax = axs[i, j]\n",
    "    im = ax.imshow(np.flip(all_probs[i]), origin='lower', vmin=0, vmax=1, extent=[0.5, 1, 0.5, 1])\n",
    "    ax.set_title(str(i+2)+\" adj, 3 noun\", fontsize=13)\n",
    "    #ax.tick_params(labelsize=14)\n",
    "    ax.set_xticks([0.5, 1])\n",
    "    ax.set_yticks([0.5, 1])\n",
    "    fig.supxlabel('$v^{adj}$')\n",
    "    fig.supylabel('$v^{noun}$')\n",
    "\n",
    "#fig.suptitle('P(NOUN-ADJ)', size=16)\n",
    "\n",
    "#fig.text(0.5, 0.15, \"$v_{noun}$\", ha=\"center\", va=\"center\", fontsize=14)\n",
    "#fig.text(0.08, 0.5, \"$v_{adj}$\", ha=\"center\", va=\"center\", rotation=90, fontsize=14)\n",
    "fig.tight_layout(pad=0.5)\n",
    "#divider = make_axes_locatable(ax)\n",
    "#cax = divider.append_axes(\"right\", size=\"5%\", pad=0.05)\n",
    "   \n",
    "#plt.colorbar(im, cax=cax)\n",
    "cbar = plt.colorbar(im, ax=axs)\n",
    "#cbar.ax.tick_params(labelsize=14)\n",
    "#plt.savefig('semantic_values.png')"
   ]
  },
  {
   "cell_type": "markdown",
   "id": "247f7263",
   "metadata": {},
   "source": [
    "## Fig. 1b: Manipulate contextual informativeness and lexical informativeness\n",
    "\n",
    "Assume fixed semantic values $v_{\\text{adj}} = 0.95, v_{\\text{noun}} = 0.99$"
   ]
  },
  {
   "cell_type": "code",
   "execution_count": 6,
   "id": "dc11dd1e",
   "metadata": {},
   "outputs": [],
   "source": [
    "start_num = 2\n",
    "num_word_range = range(start_num, 10)\n",
    "objects = [\n",
    "    {'color': 'a', 'shape': 'n', 'string': 'a n'},\n",
    "    {'color': 'a', 'shape': 'm', 'string': 'a m'},\n",
    "    {'color': 'b', 'shape': 'n', 'string': 'b n'}#,\n",
    "    #{'color': 'c', 'shape': 'o', 'string': 'c o'}\n",
    "]\n",
    "adjectives = [c for c in string.ascii_lowercase[:13]]\n",
    "nouns = [c for c in string.ascii_lowercase[13:]]"
   ]
  },
  {
   "cell_type": "code",
   "execution_count": 7,
   "id": "4cdbc8d7",
   "metadata": {},
   "outputs": [],
   "source": [
    "diff = max(num_word_range) - min(num_word_range) + 1\n",
    "\n",
    "        \n",
    "probs = np.zeros(shape=(diff, diff))\n",
    "for num_adj in num_word_range:\n",
    "    for num_noun in num_word_range:\n",
    "        adj_subset = adjectives[:num_adj]\n",
    "        noun_subset = nouns[:num_noun]\n",
    "\n",
    "        possible_utterances = get_all_utterances(adj_subset, noun_subset)\n",
    "\n",
    "        rsa = ContinuousIncrementalRSA(adj_subset, noun_subset, objects, possible_utterances)\n",
    "        p_adj_first = rsa.incremental_pragmatic_speaker({'color': 'a', 'shape': 'n', 'string': 'a n'}, 'a n')\n",
    "        p_noun_first = rsa.incremental_pragmatic_speaker({'color': 'a', 'shape': 'n', 'string': 'a n'}, 'n a')\n",
    "\n",
    "        normalized_p_adj_first = p_adj_first / (p_adj_first + p_noun_first)\n",
    "        normalized_p_noun_first = p_noun_first / (p_adj_first + p_noun_first)\n",
    "        probs[num_adj-start_num, num_noun-start_num] = normalized_p_noun_first"
   ]
  },
  {
   "cell_type": "code",
   "execution_count": 8,
   "id": "5b409be9",
   "metadata": {},
   "outputs": [
    {
     "data": {
      "image/png": "[encoded data removed]",
      "text/plain": [
       "<Figure size 300x200 with 2 Axes>"
      ]
     },
     "metadata": {},
     "output_type": "display_data"
    }
   ],
   "source": [
    "fig, ax = plt.subplots(figsize=(3, 2))\n",
    "im = ax.imshow(probs, origin='lower', cmap='plasma', vmin=0.45, vmax=0.6, extent=[1.5, 9.5, 1.5, 9.5])\n",
    "ax.set_xticks(list(range(2, 10)))\n",
    "ax.set_yticks(list(range(2, 10)))\n",
    "#ax.set_title('P(NOUN-ADJ)', size=16)\n",
    "ax.set_xlabel('Num. available nouns')\n",
    "ax.set_ylabel('Num. available adjs.')\n",
    "cbar = plt.colorbar(im)"
   ]
  },
  {
   "cell_type": "markdown",
   "id": "b37aaaa6",
   "metadata": {},
   "source": [
    "## Fig. 1c: Vary the informativeness of the adjective by manipulating the number of duplicates"
   ]
  },
  {
   "cell_type": "code",
   "execution_count": 9,
   "id": "35852d04",
   "metadata": {},
   "outputs": [
    {
     "data": {
      "text/plain": [
       "[{'color': 'red', 'shape': 'pin', 'string': 'red pin'},\n",
       " {'color': 'red', 'shape': 'dress', 'string': 'red dress'},\n",
       " {'color': 'red', 'shape': 'truck', 'string': 'red truck'},\n",
       " {'color': 'blue', 'shape': 'pin', 'string': 'blue pin'},\n",
       " {'color': 'blue', 'shape': 'dress', 'string': 'blue dress'},\n",
       " {'color': 'blue', 'shape': 'truck', 'string': 'blue truck'},\n",
       " {'color': 'green', 'shape': 'pin', 'string': 'green pin'},\n",
       " {'color': 'green', 'shape': 'dress', 'string': 'green dress'},\n",
       " {'color': 'green', 'shape': 'truck', 'string': 'green truck'}]"
      ]
     },
     "execution_count": 9,
     "metadata": {},
     "output_type": "execute_result"
    }
   ],
   "source": [
    "adjectives = [\"red\", \"blue\", \"green\"]\n",
    "nouns = [\"pin\", \"dress\", \"truck\"]\n",
    "objects = get_all_objects(adjectives, nouns)\n",
    "\"\"\"\n",
    "objects = [\n",
    "    {'color': 'red', 'shape': 'pin', 'string': 'red pin'},\n",
    "    {'color': 'red', 'shape': 'dress', 'string': 'red dress'},\n",
    "    {'color': 'blue', 'shape': 'pin', 'string': 'blue pin'},\n",
    "    {'color': 'green', 'shape': 'truck', 'string': 'green truck'}\n",
    "]\n",
    "\"\"\"\n",
    "utterances = get_all_utterances(adjectives, nouns)\n",
    "objects"
   ]
  },
  {
   "cell_type": "code",
   "execution_count": 10,
   "id": "404779e1",
   "metadata": {},
   "outputs": [
    {
     "data": {
      "text/plain": [
       "{'red pin': array([[0., 0.],\n",
       "        [0., 0.],\n",
       "        [0., 0.],\n",
       "        [0., 0.],\n",
       "        [0., 0.]]),\n",
       " 'blue pin': array([[0., 0.],\n",
       "        [0., 0.],\n",
       "        [0., 0.],\n",
       "        [0., 0.],\n",
       "        [0., 0.]]),\n",
       " 'red dress': array([[0., 0.],\n",
       "        [0., 0.],\n",
       "        [0., 0.],\n",
       "        [0., 0.],\n",
       "        [0., 0.]]),\n",
       " 'green truck': array([[0., 0.],\n",
       "        [0., 0.],\n",
       "        [0., 0.],\n",
       "        [0., 0.],\n",
       "        [0., 0.]])}"
      ]
     },
     "execution_count": 10,
     "metadata": {},
     "output_type": "execute_result"
    }
   ],
   "source": [
    "objs_to_visualize = [{'color': 'red', 'shape': 'pin', 'string': 'red pin'},\n",
    "                     {'color': 'blue', 'shape': 'pin', 'string': 'blue pin'},\n",
    "                     {'color': 'red', 'shape': 'dress', 'string': 'red dress'},\n",
    "                     {'color': 'green', 'shape': 'truck', 'string': 'green truck'}\n",
    "                    ]\n",
    "obj_names = [obj['string'] for obj in objs_to_visualize]\n",
    "max_num_duplicates = 5\n",
    "num_utt_types = 2\n",
    "probs_map = {obj: np.zeros(shape=(max_num_duplicates, num_utt_types)) for obj in obj_names}\n",
    "probs_map"
   ]
  },
  {
   "cell_type": "code",
   "execution_count": 11,
   "id": "ad2aea9d",
   "metadata": {},
   "outputs": [
    {
     "name": "stdout",
     "output_type": "stream",
     "text": [
      "Num duplicates 0\n",
      "Num duplicates 1\n",
      "Num duplicates 2\n",
      "Num duplicates 3\n",
      "Num duplicates 4\n"
     ]
    }
   ],
   "source": [
    "for dup_idx in range(max_num_duplicates):\n",
    "    objects_copy = copy.deepcopy(objects)\n",
    "    for _ in range(dup_idx):\n",
    "        objects_copy.append({'color': 'red', 'shape': 'pin', 'string': 'red pin'})\n",
    "    print('Num duplicates', dup_idx)\n",
    "    rsa = ContinuousIncrementalRSA(adjectives=adjectives,\n",
    "                                    nouns=nouns,\n",
    "                                    objects=objects_copy,\n",
    "                                    utterances=utterances,\n",
    "                                )\n",
    "    \n",
    "    for obj_idx, obj in enumerate(objs_to_visualize):\n",
    "        tokens = [obj['color'], obj['shape']]\n",
    "        options = list(itertools.permutations(tokens))\n",
    "\n",
    "        for utt_idx, option in enumerate(options):\n",
    "            utt = \" \".join(option)\n",
    "            #print(utt)\n",
    "            p = rsa.incremental_pragmatic_speaker(obj, utt)\n",
    "            #print(p)\n",
    "            probs_map[obj['string']][dup_idx][utt_idx] = p"
   ]
  },
  {
   "cell_type": "code",
   "execution_count": 12,
   "id": "41470e20",
   "metadata": {},
   "outputs": [
    {
     "data": {
      "text/plain": [
       "{'red pin': array([[0.39942481, 0.59471514],\n",
       "        [0.41240869, 0.55367467],\n",
       "        [0.40991211, 0.51465945],\n",
       "        [0.40081888, 0.48070086],\n",
       "        [0.38976219, 0.4524374 ]]),\n",
       " 'blue pin': array([[0.39942481, 0.59471514],\n",
       "        [0.71412979, 0.28150973],\n",
       "        [0.87089441, 0.12369969],\n",
       "        [0.9351796 , 0.05829723],\n",
       "        [0.96223134, 0.03018168]]),\n",
       " 'red dress': array([[0.39942481, 0.59471514],\n",
       "        [0.15410686, 0.83982679],\n",
       "        [0.06140848, 0.93186607],\n",
       "        [0.02734383, 0.96551906],\n",
       "        [0.01352584, 0.97904269]]),\n",
       " 'green truck': array([[0.39942481, 0.59471514],\n",
       "        [0.3847621 , 0.60953088],\n",
       "        [0.37055803, 0.62387035],\n",
       "        [0.35681684, 0.63773189],\n",
       "        [0.34353976, 0.65111648]])}"
      ]
     },
     "execution_count": 12,
     "metadata": {},
     "output_type": "execute_result"
    }
   ],
   "source": [
    "probs_map"
   ]
  },
  {
   "cell_type": "code",
   "execution_count": 13,
   "id": "9e824dae",
   "metadata": {},
   "outputs": [],
   "source": [
    "normalized_probs_map = {}\n",
    "for key, val in probs_map.items():\n",
    "    normalized_val = np.sum(val, axis=1)\n",
    "    normalized_val = normalized_val[:, np.newaxis]\n",
    "    normalized_probs = val / normalized_val\n",
    "    normalized_probs_map[key] = normalized_probs"
   ]
  },
  {
   "cell_type": "code",
   "execution_count": 14,
   "id": "f7ff7eb5",
   "metadata": {},
   "outputs": [
    {
     "name": "stderr",
     "output_type": "stream",
     "text": [
      "/var/folders/wh/tk6j12kd7jq5djbxfn93wjdm0000gn/T/ipykernel_62838/339071464.py:11: UserWarning: FixedFormatter should only be used together with FixedLocator\n",
      "  ax.set_xticklabels(x_labels, rotation=60)\n",
      "/var/folders/wh/tk6j12kd7jq5djbxfn93wjdm0000gn/T/ipykernel_62838/339071464.py:11: UserWarning: FixedFormatter should only be used together with FixedLocator\n",
      "  ax.set_xticklabels(x_labels, rotation=60)\n",
      "/var/folders/wh/tk6j12kd7jq5djbxfn93wjdm0000gn/T/ipykernel_62838/339071464.py:11: UserWarning: FixedFormatter should only be used together with FixedLocator\n",
      "  ax.set_xticklabels(x_labels, rotation=60)\n",
      "/var/folders/wh/tk6j12kd7jq5djbxfn93wjdm0000gn/T/ipykernel_62838/339071464.py:11: UserWarning: FixedFormatter should only be used together with FixedLocator\n",
      "  ax.set_xticklabels(x_labels, rotation=60)\n"
     ]
    },
    {
     "data": {
      "image/png": "[encoded data removed]",
      "text/plain": [
       "<Figure size 600x350 with 4 Axes>"
      ]
     },
     "metadata": {},
     "output_type": "display_data"
    }
   ],
   "source": [
    "fig, axs = plt.subplots(2, 2, sharex=True, sharey=True, figsize=(6, 3.5))\n",
    "for i in range(2):\n",
    "    for j in range(2):\n",
    "        ax = axs[i, j]\n",
    "        flat_idx = np.ravel_multi_index((i, j), (2, 2))\n",
    "        obj_name = obj_names[flat_idx]\n",
    "        vals_for_hist = normalized_probs_map[obj_name][:, -1]\n",
    "        x_labels = [str(i) + ' dups.' for i in range(5)]\n",
    "        ax.bar(x_labels, vals_for_hist)\n",
    "        ax.axhline(y=0.5, ls='--', c='black', zorder=1)\n",
    "        ax.set_xticklabels(x_labels, rotation=60)\n",
    "        #ax.set_ylabel(\"obj=\" + obj_name)\n",
    "        ax.set_title('ref=' + obj_name)\n",
    "        fig.supylabel('P(NOUN-ADJ | ref)')\n",
    "#fig.suptitle('P(NOUN-ADJ | obj)', fontsize=16)#, x=0.5, y=0.93)\n",
    "#plt.savefig('duplicates.png')\n",
    "fig.tight_layout(pad=0.7)"
   ]
  },
  {
   "cell_type": "code",
   "execution_count": 15,
   "id": "4a8cfa8d",
   "metadata": {},
   "outputs": [
    {
     "name": "stderr",
     "output_type": "stream",
     "text": [
      "/var/folders/wh/tk6j12kd7jq5djbxfn93wjdm0000gn/T/ipykernel_62838/428675637.py:10: UserWarning: FixedFormatter should only be used together with FixedLocator\n",
      "  ax.set_xticklabels(x_labels, rotation=60)\n",
      "/var/folders/wh/tk6j12kd7jq5djbxfn93wjdm0000gn/T/ipykernel_62838/428675637.py:10: UserWarning: FixedFormatter should only be used together with FixedLocator\n",
      "  ax.set_xticklabels(x_labels, rotation=60)\n",
      "/var/folders/wh/tk6j12kd7jq5djbxfn93wjdm0000gn/T/ipykernel_62838/428675637.py:10: UserWarning: FixedFormatter should only be used together with FixedLocator\n",
      "  ax.set_xticklabels(x_labels, rotation=60)\n"
     ]
    },
    {
     "data": {
      "image/png": "[encoded data removed]",
      "text/plain": [
       "<Figure size 400x500 with 3 Axes>"
      ]
     },
     "metadata": {},
     "output_type": "display_data"
    }
   ],
   "source": [
    "fig, axs = plt.subplots(3, 1, sharex=True, sharey=True, figsize=(4, 5))\n",
    "for i in range(3):\n",
    "    ax = axs[i]\n",
    "    #flat_idx = np.ravel_multi_index((i, j), (2, 2))\n",
    "    obj_name = obj_names[i+1]\n",
    "    vals_for_hist = normalized_probs_map[obj_name][:, -1]\n",
    "    x_labels = [str(num_dups) + ' dups.' for num_dups in range(5)]\n",
    "    ax.bar(x_labels, vals_for_hist)\n",
    "    ax.axhline(y=0.5, ls='--', c='black', zorder=1)\n",
    "    ax.set_xticklabels(x_labels, rotation=60)\n",
    "    #ax.set_ylabel(\"obj=\" + obj_name)\n",
    "    ax.set_title('ref=' + obj_name)\n",
    "    fig.supylabel('P(NOUN-ADJ | ref)')\n",
    "#fig.suptitle('P(NOUN-ADJ | obj)', fontsize=16)#, x=0.5, y=0.93)\n",
    "#plt.savefig('duplicates.png')\n",
    "fig.tight_layout(pad=0.7)"
   ]
  },
  {
   "cell_type": "code",
   "execution_count": null,
   "id": "5f62f868",
   "metadata": {},
   "outputs": [],
   "source": []
  }
 ],
 "metadata": {
  "kernelspec": {
   "display_name": "Python 3 (ipykernel)",
   "language": "python",
   "name": "python3"
  },
  "language_info": {
   "codemirror_mode": {
    "name": "ipython",
    "version": 3
   },
   "file_extension": ".py",
   "mimetype": "text/x-python",
   "name": "python",
   "nbconvert_exporter": "python",
   "pygments_lexer": "ipython3",
   "version": "3.10.8"
  }
 },
 "nbformat": 4,
 "nbformat_minor": 5
}
