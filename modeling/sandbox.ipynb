{
 "cells": [
  {
   "cell_type": "code",
   "execution_count": 7,
   "id": "4f2dacab",
   "metadata": {},
   "outputs": [],
   "source": [
    "import numpy as np\n",
    "import matplotlib.pyplot as plt\n",
    "\n",
    "import string\n",
    "import copy\n",
    "\n",
    "from models import ContinuousIncrementalRSA\n",
    "from utils import *\n",
    "import time\n",
    "from tqdm import tqdm\n",
    "\n",
    "import scipy.stats"
   ]
  },
  {
   "cell_type": "markdown",
   "id": "8f15c7a2",
   "metadata": {},
   "source": [
    "## Vary the number of duplicates of an object in the reference context"
   ]
  },
  {
   "cell_type": "code",
   "execution_count": 8,
   "id": "03e2910d",
   "metadata": {},
   "outputs": [
    {
     "data": {
      "text/plain": [
       "[{'color': 'red', 'shape': 'pin', 'string': 'red pin'},\n",
       " {'color': 'red', 'shape': 'dress', 'string': 'red dress'},\n",
       " {'color': 'red', 'shape': 'truck', 'string': 'red truck'},\n",
       " {'color': 'blue', 'shape': 'pin', 'string': 'blue pin'},\n",
       " {'color': 'blue', 'shape': 'dress', 'string': 'blue dress'},\n",
       " {'color': 'blue', 'shape': 'truck', 'string': 'blue truck'},\n",
       " {'color': 'green', 'shape': 'pin', 'string': 'green pin'},\n",
       " {'color': 'green', 'shape': 'dress', 'string': 'green dress'},\n",
       " {'color': 'green', 'shape': 'truck', 'string': 'green truck'}]"
      ]
     },
     "execution_count": 8,
     "metadata": {},
     "output_type": "execute_result"
    }
   ],
   "source": [
    "adjectives = [\"red\", \"blue\", \"green\"]\n",
    "nouns = [\"pin\", \"dress\", \"truck\"]\n",
    "objects = get_all_objects(adjectives, nouns)\n",
    "utterances = get_all_utterances(adjectives, nouns)\n",
    "objects"
   ]
  },
  {
   "cell_type": "code",
   "execution_count": 28,
   "id": "5cd43198",
   "metadata": {},
   "outputs": [
    {
     "name": "stdout",
     "output_type": "stream",
     "text": [
      "Num duplicates 0\n",
      "Num duplicates 1\n",
      "Num duplicates 2\n",
      "Num duplicates 3\n",
      "Num duplicates 4\n",
      "Num duplicates 5\n",
      "Num duplicates 6\n",
      "Num duplicates 7\n",
      "Num duplicates 8\n",
      "Num duplicates 9\n"
     ]
    }
   ],
   "source": [
    "red_pin = []\n",
    "blue_pin = []\n",
    "red_dress = []\n",
    "green_truck = []\n",
    "\n",
    "for num_duplicates in range(10):\n",
    "    objects_copy = copy.deepcopy(objects)\n",
    "    for _ in range(num_duplicates):\n",
    "        objects_copy.append({'color': 'red', 'shape': 'pin', 'string': 'red pin'})\n",
    "    print('Num duplicates', num_duplicates)\n",
    "    rsa = ContinuousIncrementalRSA(adjectives=adjectives,\n",
    "                                    nouns=nouns,\n",
    "                                    objects=objects_copy,\n",
    "                                    utterances=utterances,\n",
    "                                )\n",
    "    red_pin_probs = []\n",
    "    for utt in ['red', 'pin', 'red pin', 'pin red']:\n",
    "        probs = rsa.incremental_pragmatic_speaker({'color': 'red', 'shape': 'pin', 'string': 'red pin'}, utt)\n",
    "        red_pin_probs.append(probs)\n",
    "    red_pin.append(red_pin_probs)\n",
    "    \n",
    "    blue_pin_probs = []\n",
    "    for utt in ['blue', 'pin', 'blue pin', 'pin blue']:\n",
    "        probs = rsa.incremental_pragmatic_speaker({'color': 'blue', 'shape': 'pin', 'string': 'blue pin'}, utt)\n",
    "        blue_pin_probs.append(probs)\n",
    "    blue_pin.append(blue_pin_probs)\n",
    "        \n",
    "    red_dress_probs = []\n",
    "    for utt in ['red', 'dress', 'red dress', 'dress red']:\n",
    "        probs = rsa.incremental_pragmatic_speaker({'color': 'red', 'shape': 'dress', 'string': 'red dress'}, utt)\n",
    "        red_dress_probs.append(probs)\n",
    "    red_dress.append(red_dress_probs)\n",
    "    \n",
    "    green_truck_probs = []\n",
    "    for utt in ['green', 'truck', 'green truck', 'truck green']:\n",
    "        probs = rsa.incremental_pragmatic_speaker({'color': 'green', 'shape': 'truck', 'string': 'green truck'}, utt)\n",
    "        green_truck_probs.append(probs)\n",
    "    green_truck.append(green_truck_probs)"
   ]
  },
  {
   "cell_type": "code",
   "execution_count": 39,
   "id": "a8cce2da",
   "metadata": {},
   "outputs": [
    {
     "name": "stderr",
     "output_type": "stream",
     "text": [
      "/var/folders/wh/tk6j12kd7jq5djbxfn93wjdm0000gn/T/ipykernel_68859/1284570352.py:4: UserWarning: FixedFormatter should only be used together with FixedLocator\n",
      "  ax.set_xticklabels(['adj', 'noun', 'adj-noun', 'noun-adj'], rotation=60)\n"
     ]
    },
    {
     "data": {
      "text/plain": [
       "Text(0.5, 0.98, 'red pin')"
      ]
     },
     "execution_count": 39,
     "metadata": {},
     "output_type": "execute_result"
    },
    {
     "data": {
      "image/png": "[encoded data removed]",
      "text/plain": [
       "<Figure size 1152x216 with 5 Axes>"
      ]
     },
     "metadata": {
      "needs_background": "light"
     },
     "output_type": "display_data"
    }
   ],
   "source": [
    "fig, axs = plt.subplots(1, 5, sharex=True, sharey=True, figsize=(16, 3))\n",
    "for i, ax in enumerate(axs):\n",
    "    ax.bar(['adj', 'noun', 'adj-noun', 'noun-adj'], red_pin[i], color='purple')\n",
    "    ax.set_xticklabels(['adj', 'noun', 'adj-noun', 'noun-adj'], rotation=60)\n",
    "    ax.set_ylim([0, 1])\n",
    "\n",
    "fig.suptitle('red pin', size=16)"
   ]
  },
  {
   "cell_type": "code",
   "execution_count": 40,
   "id": "cf2c9ccd",
   "metadata": {},
   "outputs": [
    {
     "name": "stderr",
     "output_type": "stream",
     "text": [
      "/var/folders/wh/tk6j12kd7jq5djbxfn93wjdm0000gn/T/ipykernel_68859/244230473.py:4: UserWarning: FixedFormatter should only be used together with FixedLocator\n",
      "  ax.set_xticklabels(['adj', 'noun', 'adj-noun', 'noun-adj'], rotation=60)\n"
     ]
    },
    {
     "data": {
      "text/plain": [
       "Text(0.5, 0.98, 'blue pin')"
      ]
     },
     "execution_count": 40,
     "metadata": {},
     "output_type": "execute_result"
    },
    {
     "data": {
      "image/png": "[encoded data removed]",
      "text/plain": [
       "<Figure size 1152x216 with 5 Axes>"
      ]
     },
     "metadata": {
      "needs_background": "light"
     },
     "output_type": "display_data"
    }
   ],
   "source": [
    "fig, axs = plt.subplots(1, 5, sharex=True, sharey=True, figsize=(16, 3))\n",
    "for i, ax in enumerate(axs):\n",
    "    ax.bar(['adj', 'noun', 'adj-noun', 'noun-adj'], blue_pin[i], color='purple')\n",
    "    ax.set_xticklabels(['adj', 'noun', 'adj-noun', 'noun-adj'], rotation=60)\n",
    "    ax.set_ylim([0, 1])\n",
    "\n",
    "fig.suptitle('blue pin', size=16)"
   ]
  },
  {
   "cell_type": "code",
   "execution_count": 75,
   "id": "ef68d8ef",
   "metadata": {},
   "outputs": [
    {
     "name": "stdout",
     "output_type": "stream",
     "text": [
      "0\n",
      "1\n",
      "2\n",
      "3\n"
     ]
    },
    {
     "name": "stderr",
     "output_type": "stream",
     "text": [
      "/var/folders/wh/tk6j12kd7jq5djbxfn93wjdm0000gn/T/ipykernel_68859/1565726120.py:10: UserWarning: FixedFormatter should only be used together with FixedLocator\n",
      "  row_ax.set_xticklabels(x_labels, rotation=60)\n"
     ]
    },
    {
     "data": {
      "text/plain": [
       "Text(0.5, 0.98, 'Prob. of postnominal ordering varying the number of duplicates of red pin')"
      ]
     },
     "execution_count": 75,
     "metadata": {},
     "output_type": "execute_result"
    },
    {
     "data": {
      "image/png": "[encoded data removed]",
      "text/plain": [
       "<Figure size 288x576 with 4 Axes>"
      ]
     },
     "metadata": {
      "needs_background": "light"
     },
     "output_type": "display_data"
    }
   ],
   "source": [
    "all_probs = [np.array(red_pin), np.array(blue_pin), np.array(red_dress), np.array(green_truck)]\n",
    "y_labels = ['red pin', 'blue pin', 'red dress', 'green truck']\n",
    "fig, axs = plt.subplots(4, 1, sharex=True, sharey=True, figsize=(4, 8))\n",
    "for obj_idx, row_ax in enumerate(axs):\n",
    "    print(obj_idx)\n",
    "    vals_for_hist = all_probs[obj_idx][:5, -1]\n",
    "    x_labels = [str(i) + ' dups.' for i in range(5)]\n",
    "    row_ax.bar(x_labels, vals_for_hist)\n",
    "    row_ax.axhline(y=0.5, ls='--', c='black', zorder=1)\n",
    "    row_ax.set_xticklabels(x_labels, rotation=60)\n",
    "    row_ax.set_ylabel(y_labels[obj_idx])\n",
    "    #for dup_idx, item_ax in enumerate(row_ax):\n",
    "    #    item_ax.bar(['adj', 'noun', 'adj-noun', 'noun-adj'], all_probs[obj_idx][dup_idx], color='purple')\n",
    "    #    item_ax.set_xticklabels(['adj', 'noun', 'adj-noun', 'noun-adj'], rotation=60)\n",
    "    #    item_ax.set_ylim([0, 1])\n",
    "    #    item_ax.set_xlabel(str(dup_idx) + ' duplicates')\n",
    "    #    if dup_idx == 0:\n",
    "    #        item_ax.set_ylabel(y_labels[obj_idx])\n",
    "\n",
    "fig.suptitle('Prob. of postnominal ordering varying the number of duplicates of red pin')"
   ]
  },
  {
   "cell_type": "code",
   "execution_count": null,
   "id": "f16595b8",
   "metadata": {},
   "outputs": [],
   "source": [
    "rsa = ContinuousIncrementalRSA(adjectives=adjectives,\n",
    "                                  nouns=nouns,\n",
    "                                  objects=objects,\n",
    "                                  utterances=utterances\n",
    "                              )\n",
    "for utt in ['red', 'pin', 'red pin', 'pin red']:\n",
    "    probs = rsa.incremental_pragmatic_speaker({'color': 'red', 'shape': 'pin', 'string': 'red pin'}, utt)\n",
    "    print(probs)"
   ]
  },
  {
   "cell_type": "code",
   "execution_count": null,
   "id": "0fe58fcf",
   "metadata": {},
   "outputs": [],
   "source": []
  }
 ],
 "metadata": {
  "kernelspec": {
   "display_name": "Python 3 (ipykernel)",
   "language": "python",
   "name": "python3"
  },
  "language_info": {
   "codemirror_mode": {
    "name": "ipython",
    "version": 3
   },
   "file_extension": ".py",
   "mimetype": "text/x-python",
   "name": "python",
   "nbconvert_exporter": "python",
   "pygments_lexer": "ipython3",
   "version": "3.9.7"
  }
 },
 "nbformat": 4,
 "nbformat_minor": 5
}
