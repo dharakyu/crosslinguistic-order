{
 "cells": [
  {
   "cell_type": "code",
   "execution_count": 1,
   "id": "29417610",
   "metadata": {},
   "outputs": [],
   "source": [
    "import numpy as np\n",
    "import pandas as pd\n",
    "import matplotlib.pyplot as plt\n",
    "\n",
    "import string\n",
    "\n",
    "from models import ContinuousIncrementalRSA\n",
    "from utils import *\n",
    "import time\n",
    "from tqdm import tqdm\n",
    "\n",
    "import scipy.stats"
   ]
  },
  {
   "cell_type": "code",
   "execution_count": 2,
   "id": "5ccfc4a6",
   "metadata": {},
   "outputs": [],
   "source": [
    "OBJ = {'color':'red', 'shape':'dress', 'string':'red dress'}\n",
    "adjectives = [\"red\", \"blue\"]\n",
    "nouns = [\"pin\", \"dress\"]#, \"bottle\", \"pen\", \"glasses\"]\n",
    "objects = get_all_objects(adjectives, nouns)\n",
    "utterances = get_all_utterances(adjectives, nouns)\n",
    "v_adj = 0.9\n",
    "v_noun = 0.95\n",
    "alpha = 5\n",
    "utt_types = ['red', 'dress', 'red dress', 'dress red']"
   ]
  },
  {
   "cell_type": "code",
   "execution_count": 3,
   "id": "aea29cfd",
   "metadata": {},
   "outputs": [],
   "source": [
    "rsa = ContinuousIncrementalRSA(adjectives=adjectives,\n",
    "                                  nouns=nouns,\n",
    "                                  objects=objects,\n",
    "                                  utterances=utterances,\n",
    "                                  v_adj=v_adj,\n",
    "                                  v_noun=v_noun,\n",
    "                                  alpha=alpha)"
   ]
  },
  {
   "cell_type": "code",
   "execution_count": 4,
   "id": "58ca6401",
   "metadata": {},
   "outputs": [
    {
     "name": "stdout",
     "output_type": "stream",
     "text": [
      "P('red'| red dress) = 0.016801417320292736\n",
      "P('dress'| red dress) = 0.02850679179165062\n",
      "P('red dress'| red dress) = 0.41601972625359535\n",
      "P('dress red'| red dress) = 0.5386552155216565\n"
     ]
    }
   ],
   "source": [
    "p_red = rsa.incremental_pragmatic_speaker(OBJ, 'red')\n",
    "p_dress = rsa.incremental_pragmatic_speaker(OBJ, 'dress')\n",
    "p_red_dress = rsa.incremental_pragmatic_speaker(OBJ, 'red dress')\n",
    "p_dress_red = rsa.incremental_pragmatic_speaker(OBJ, 'dress red')\n",
    "\n",
    "print('P(\\'red\\'| red dress) =', p_red)\n",
    "print('P(\\'dress\\'| red dress) =', p_dress)\n",
    "print('P(\\'red dress\\'| red dress) =', p_red_dress)\n",
    "print('P(\\'dress red\\'| red dress) =', p_dress_red)"
   ]
  },
  {
   "cell_type": "code",
   "execution_count": 5,
   "id": "89e470ee",
   "metadata": {},
   "outputs": [
    {
     "data": {
      "text/html": [
       "<div>\n",
       "<style scoped>\n",
       "    .dataframe tbody tr th:only-of-type {\n",
       "        vertical-align: middle;\n",
       "    }\n",
       "\n",
       "    .dataframe tbody tr th {\n",
       "        vertical-align: top;\n",
       "    }\n",
       "\n",
       "    .dataframe thead th {\n",
       "        text-align: right;\n",
       "    }\n",
       "</style>\n",
       "<table border=\"1\" class=\"dataframe\">\n",
       "  <thead>\n",
       "    <tr style=\"text-align: right;\">\n",
       "      <th></th>\n",
       "      <th>utt_type</th>\n",
       "      <th>count</th>\n",
       "      <th>probs</th>\n",
       "    </tr>\n",
       "  </thead>\n",
       "  <tbody>\n",
       "    <tr>\n",
       "      <th>0</th>\n",
       "      <td>red</td>\n",
       "      <td>1</td>\n",
       "      <td>0.25</td>\n",
       "    </tr>\n",
       "    <tr>\n",
       "      <th>1</th>\n",
       "      <td>dress</td>\n",
       "      <td>1</td>\n",
       "      <td>0.25</td>\n",
       "    </tr>\n",
       "    <tr>\n",
       "      <th>2</th>\n",
       "      <td>red dress</td>\n",
       "      <td>1</td>\n",
       "      <td>0.25</td>\n",
       "    </tr>\n",
       "    <tr>\n",
       "      <th>3</th>\n",
       "      <td>dress red</td>\n",
       "      <td>1</td>\n",
       "      <td>0.25</td>\n",
       "    </tr>\n",
       "  </tbody>\n",
       "</table>\n",
       "</div>"
      ],
      "text/plain": [
       "    utt_type  count  probs\n",
       "0        red      1   0.25\n",
       "1      dress      1   0.25\n",
       "2  red dress      1   0.25\n",
       "3  dress red      1   0.25"
      ]
     },
     "execution_count": 5,
     "metadata": {},
     "output_type": "execute_result"
    }
   ],
   "source": [
    "initial_counts = [1, 1, 1, 1]\n",
    "counts_df = pd.DataFrame(zip(utt_types, initial_counts), columns=['utt_type', 'count'])\n",
    "counts_df['probs'] = counts_df['count'] / counts_df['count'].sum()\n",
    "counts_df"
   ]
  },
  {
   "cell_type": "code",
   "execution_count": 6,
   "id": "417bf7e6",
   "metadata": {},
   "outputs": [
    {
     "data": {
      "text/html": [
       "<div>\n",
       "<style scoped>\n",
       "    .dataframe tbody tr th:only-of-type {\n",
       "        vertical-align: middle;\n",
       "    }\n",
       "\n",
       "    .dataframe tbody tr th {\n",
       "        vertical-align: top;\n",
       "    }\n",
       "\n",
       "    .dataframe thead th {\n",
       "        text-align: right;\n",
       "    }\n",
       "</style>\n",
       "<table border=\"1\" class=\"dataframe\">\n",
       "  <thead>\n",
       "    <tr style=\"text-align: right;\">\n",
       "      <th></th>\n",
       "      <th>utt_type</th>\n",
       "      <th>count</th>\n",
       "      <th>probs</th>\n",
       "    </tr>\n",
       "  </thead>\n",
       "  <tbody>\n",
       "    <tr>\n",
       "      <th>0</th>\n",
       "      <td>red</td>\n",
       "      <td>1</td>\n",
       "      <td>0.2</td>\n",
       "    </tr>\n",
       "    <tr>\n",
       "      <th>1</th>\n",
       "      <td>dress</td>\n",
       "      <td>1</td>\n",
       "      <td>0.2</td>\n",
       "    </tr>\n",
       "    <tr>\n",
       "      <th>2</th>\n",
       "      <td>red dress</td>\n",
       "      <td>2</td>\n",
       "      <td>0.4</td>\n",
       "    </tr>\n",
       "    <tr>\n",
       "      <th>3</th>\n",
       "      <td>dress red</td>\n",
       "      <td>1</td>\n",
       "      <td>0.2</td>\n",
       "    </tr>\n",
       "  </tbody>\n",
       "</table>\n",
       "</div>"
      ],
      "text/plain": [
       "    utt_type  count  probs\n",
       "0        red      1    0.2\n",
       "1      dress      1    0.2\n",
       "2  red dress      2    0.4\n",
       "3  dress red      1    0.2"
      ]
     },
     "execution_count": 6,
     "metadata": {},
     "output_type": "execute_result"
    }
   ],
   "source": [
    "counts_df.loc[counts_df['utt_type'] == 'red dress', 'count'] += 1\n",
    "counts_df['probs'] = counts_df['count'] / counts_df['count'].sum()\n",
    "counts_df"
   ]
  },
  {
   "cell_type": "code",
   "execution_count": 8,
   "id": "5c53132c",
   "metadata": {},
   "outputs": [
    {
     "name": "stdout",
     "output_type": "stream",
     "text": [
      "P('red dress'| red dress) = 0.41601972625359535\n",
      "P('dress red'| red dress) = 0.5386552155216565\n"
     ]
    }
   ],
   "source": [
    "p_red_dress = rsa.incremental_pragmatic_speaker({'color':'red', 'shape':'dress', 'string':'red dress'}, 'red dress')\n",
    "p_dress_red = rsa.incremental_pragmatic_speaker({'color':'red', 'shape':'dress', 'string':'red dress'}, 'dress red')\n",
    "\n",
    "print('P(\\'red dress\\'| red dress) =', p_red_dress)\n",
    "print('P(\\'dress red\\'| red dress) =', p_dress_red)"
   ]
  },
  {
   "cell_type": "code",
   "execution_count": null,
   "id": "0729e384",
   "metadata": {},
   "outputs": [],
   "source": [
    "NUM_UTT_TYPES = 4\n",
    "NUM_SIMS = 100\n",
    "NUM_GENS = 300\n",
    "\n",
    "runs = np.zeros(shape=(NUM_UTT_TYPES, NUM_SIMS, NUM_GENS))\n",
    "\n",
    "for sim_idx in tqdm(range(NUM_SIMS)):\n",
    "    start = time.time()\n",
    "    counts = [1, 1, 1, 1]\n",
    "    for gen_idx in range(NUM_GENS):\n",
    "        \n",
    "        p_red = rsa.incremental_pragmatic_speaker(OBJ, 'red', counts_df)\n",
    "        p_dress = rsa.incremental_pragmatic_speaker(OBJ, 'dress')\n",
    "        p_red_dress = rsa.incremental_pragmatic_speaker(OBJ, 'red dress')\n",
    "        p_dress_red = rsa.incremental_pragmatic_speaker(OBJ, 'dress red')\n",
    "\n",
    "        utterance_type_prior = [count/sum(counts) for count in counts]\n",
    "        probs = [p_red, p_dress, p_red_dress, p_dress_red]        \n",
    "\n",
    "        #print('P(\\'red\\'| red dress) =', p_red)\n",
    "        #print('P(\\'dress\\'| red dress) =', p_dress)\n",
    "        #print('P(\\'red dress\\'| red dress) =', p_red_dress)\n",
    "        #print('P(\\'dress red\\'| red dress) =', p_dress_red)\n",
    "\n",
    "        denom = sum([utterance_type_prior[i]*probs[i] for i in range(4)])\n",
    "\n",
    "        indices = list(range(4))\n",
    "        normalized_probs = [(utterance_type_prior[i]*probs[i])/denom for i in range(4)]\n",
    "\n",
    "        sample = np.random.choice(indices, p=normalized_probs)\n",
    "        counts[sample] += 1\n",
    "\n",
    "        for utt_idx in range(4):\n",
    "            runs[utt_idx, sim_idx, gen_idx] = normalized_probs[utt_idx]"
   ]
  }
 ],
 "metadata": {
  "kernelspec": {
   "display_name": "Python 3 (ipykernel)",
   "language": "python",
   "name": "python3"
  },
  "language_info": {
   "codemirror_mode": {
    "name": "ipython",
    "version": 3
   },
   "file_extension": ".py",
   "mimetype": "text/x-python",
   "name": "python",
   "nbconvert_exporter": "python",
   "pygments_lexer": "ipython3",
   "version": "3.9.7"
  }
 },
 "nbformat": 4,
 "nbformat_minor": 5
}
