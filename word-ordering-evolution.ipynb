{
 "cells": [
  {
   "cell_type": "markdown",
   "id": "d839be77",
   "metadata": {},
   "source": [
    "# Modeling the emergence of adj-noun ordering preferences"
   ]
  },
  {
   "cell_type": "code",
   "execution_count": 1,
   "id": "a186c1d2",
   "metadata": {},
   "outputs": [],
   "source": [
    "import numpy as np\n",
    "import pandas as pd\n",
    "import matplotlib.pyplot as plt"
   ]
  },
  {
   "cell_type": "markdown",
   "id": "0b3e3ed3",
   "metadata": {},
   "source": [
    "## Define objects and utterances"
   ]
  },
  {
   "cell_type": "code",
   "execution_count": 2,
   "id": "fae323af",
   "metadata": {},
   "outputs": [],
   "source": [
    "adjectives = ['red', 'blue']\n",
    "nouns = ['pin', 'dress']"
   ]
  },
  {
   "cell_type": "markdown",
   "id": "3a70b5f9",
   "metadata": {},
   "source": [
    "Let's define a function to create all the possible objects in the world."
   ]
  },
  {
   "cell_type": "code",
   "execution_count": 4,
   "id": "b2692686",
   "metadata": {},
   "outputs": [],
   "source": [
    "def get_all_objects(adjectives, nouns):\n",
    "    objects = []\n",
    "    for adj in adjectives:\n",
    "        for noun in nouns:\n",
    "            obj = {}\n",
    "            obj[\"color\"] = adj\n",
    "            obj[\"shape\"] = noun\n",
    "            obj[\"string\"] = adj + \" \" + noun\n",
    "            objects.append(obj)\n",
    "            \n",
    "    return objects"
   ]
  },
  {
   "cell_type": "markdown",
   "id": "25f1402d",
   "metadata": {},
   "source": [
    "Now we can see all the objects:"
   ]
  },
  {
   "cell_type": "code",
   "execution_count": 5,
   "id": "545b265a",
   "metadata": {},
   "outputs": [
    {
     "data": {
      "text/plain": [
       "[{'color': 'red', 'shape': 'pin', 'string': 'red pin'},\n",
       " {'color': 'red', 'shape': 'dress', 'string': 'red dress'},\n",
       " {'color': 'blue', 'shape': 'pin', 'string': 'blue pin'},\n",
       " {'color': 'blue', 'shape': 'dress', 'string': 'blue dress'}]"
      ]
     },
     "execution_count": 5,
     "metadata": {},
     "output_type": "execute_result"
    }
   ],
   "source": [
    "objects = get_all_objects(adjectives, nouns)\n",
    "objects"
   ]
  },
  {
   "cell_type": "markdown",
   "id": "e9199f3f",
   "metadata": {},
   "source": [
    "Next, we can define all the possible utterances. Similar to above, we'll write a function to compressly express all the combos."
   ]
  },
  {
   "cell_type": "code",
   "execution_count": 6,
   "id": "7298aab4",
   "metadata": {},
   "outputs": [],
   "source": [
    "def get_all_utterances(adjectives, nouns):\n",
    "    utterances = []\n",
    "    utterances.extend(adjectives)\n",
    "    utterances.extend(nouns)\n",
    "    for adj in adjectives:\n",
    "        for noun in nouns:\n",
    "            adj_first = adj + \" \" + noun\n",
    "            noun_first = noun + \" \" + adj\n",
    "            utterances.append(adj_first)\n",
    "            utterances.append(noun_first)\n",
    "            \n",
    "    return utterances"
   ]
  },
  {
   "cell_type": "code",
   "execution_count": 7,
   "id": "cbfc590b",
   "metadata": {},
   "outputs": [
    {
     "data": {
      "text/plain": [
       "['red',\n",
       " 'blue',\n",
       " 'pin',\n",
       " 'dress',\n",
       " 'red pin',\n",
       " 'pin red',\n",
       " 'red dress',\n",
       " 'dress red',\n",
       " 'blue pin',\n",
       " 'pin blue',\n",
       " 'blue dress',\n",
       " 'dress blue']"
      ]
     },
     "execution_count": 7,
     "metadata": {},
     "output_type": "execute_result"
    }
   ],
   "source": [
    "utterances = get_all_utterances(adjectives, nouns)\n",
    "utterances"
   ]
  },
  {
   "cell_type": "markdown",
   "id": "9da8160f",
   "metadata": {},
   "source": [
    "Now, we're going to define our meaning function, which is slightly different from how we did it in the simple case. This meaning function maps an utterance to every possible object for which that utterance applies, taking into account multi-word utterances (so ``blue square`` could only refer to an object that is both blue and square, not, for example, any blue thing).\n",
    "\n",
    "Additionally, the meaning function will (eventually) also capture asymmetries in referential noise between adjectives and nouns, but we'll hold off on that for now."
   ]
  },
  {
   "cell_type": "code",
   "execution_count": 8,
   "id": "d3054b9a",
   "metadata": {},
   "outputs": [],
   "source": [
    "def meaning(obj, utt):\n",
    "    utt_as_tokens = utt.split()\n",
    "    all_contained = set(utt_as_tokens).issubset(obj.values())\n",
    "            \n",
    "    return int(all_contained)"
   ]
  },
  {
   "cell_type": "code",
   "execution_count": 9,
   "id": "05a62a68",
   "metadata": {},
   "outputs": [
    {
     "data": {
      "text/plain": [
       "1"
      ]
     },
     "execution_count": 9,
     "metadata": {},
     "output_type": "execute_result"
    }
   ],
   "source": [
    "meaning({'color': 'red', 'shape': 'square', 'string': 'red square'}, 'square')"
   ]
  },
  {
   "cell_type": "markdown",
   "id": "642a6d8b",
   "metadata": {},
   "source": [
    "## Continuous global speaker\n",
    "\n",
    "#### Literal listener"
   ]
  },
  {
   "cell_type": "code",
   "execution_count": 10,
   "id": "4b1078fc",
   "metadata": {},
   "outputs": [],
   "source": [
    "def normalize_rows(matrix):\n",
    "    \"\"\"\n",
    "    Helper function that normalize probabilities across rows to sum to 1\n",
    "    \"\"\"\n",
    "    totals = np.sum(matrix, axis=1)\n",
    "    return matrix / totals[:, np.newaxis]\n",
    "\n",
    "def literal_listener(utt, meaning_fn=meaning):\n",
    "    # generate the matrix of utterances x world states\n",
    "    all_counts = np.zeros(shape=(len(utterances), len(objects)))\n",
    "    for i in range(len(utterances)):\n",
    "        for j in range(len(objects)):\n",
    "            curr_utt = utterances[i]\n",
    "            curr_obj = objects[j]\n",
    "\n",
    "            all_counts[i, j] = meaning_fn(curr_obj, curr_utt)\n",
    "            # if I wanted to incorporate a prior I would do it here\n",
    "                \n",
    "    data = normalize_rows(all_counts)\n",
    "    df_cols = [obj[\"string\"] for obj in objects]\n",
    "    df = pd.DataFrame(data, columns=df_cols, index=utterances)\n",
    "    return df, df.loc[utt]"
   ]
  },
  {
   "cell_type": "code",
   "execution_count": 11,
   "id": "bdaca4b6",
   "metadata": {},
   "outputs": [],
   "source": [
    "l0_df, l0_probs = literal_listener('red')"
   ]
  },
  {
   "cell_type": "code",
   "execution_count": 12,
   "id": "ba486b44",
   "metadata": {},
   "outputs": [
    {
     "data": {
      "text/plain": [
       "red pin       0.5\n",
       "red dress     0.5\n",
       "blue pin      0.0\n",
       "blue dress    0.0\n",
       "Name: red, dtype: float64"
      ]
     },
     "execution_count": 12,
     "metadata": {},
     "output_type": "execute_result"
    }
   ],
   "source": [
    "l0_probs"
   ]
  },
  {
   "cell_type": "markdown",
   "id": "77fbaba6",
   "metadata": {},
   "source": [
    "#### Continuous meaning function"
   ]
  },
  {
   "cell_type": "code",
   "execution_count": 13,
   "id": "7cdeec39",
   "metadata": {},
   "outputs": [],
   "source": [
    "def token_applies_to_obj(obj, token):\n",
    "    return token in obj.values()\n",
    "\n",
    "def continuous_meaning(obj, utt):\n",
    "    v_adj = 0.95\n",
    "    v_noun = 0.99\n",
    "    total = 1\n",
    "    for token in utt.split():\n",
    "        if token_applies_to_obj(obj, token):\n",
    "            if token in adjectives: total *= v_adj\n",
    "            if token in nouns: total *= v_noun\n",
    "        else:\n",
    "            if token in adjectives: total *= (1 - v_adj)\n",
    "            if token in nouns: total *= (1 - v_noun)\n",
    "                \n",
    "    return total"
   ]
  },
  {
   "cell_type": "code",
   "execution_count": 14,
   "id": "0cbc16b1",
   "metadata": {},
   "outputs": [
    {
     "data": {
      "text/plain": [
       "0.9405"
      ]
     },
     "execution_count": 14,
     "metadata": {},
     "output_type": "execute_result"
    }
   ],
   "source": [
    "continuous_meaning({'color': 'red', 'shape': 'pin', 'string': 'red pin'}, 'red pin')"
   ]
  },
  {
   "cell_type": "markdown",
   "id": "fa1caab4",
   "metadata": {},
   "source": [
    "#### Cost function"
   ]
  },
  {
   "cell_type": "code",
   "execution_count": 15,
   "id": "75b46977",
   "metadata": {},
   "outputs": [],
   "source": [
    "def cost(utt):\n",
    "    return 0.1 * len(utt.split())"
   ]
  },
  {
   "cell_type": "markdown",
   "id": "39b76d33",
   "metadata": {},
   "source": [
    "#### Pragmatic speaker"
   ]
  },
  {
   "cell_type": "code",
   "execution_count": 16,
   "id": "0bc5bc06",
   "metadata": {},
   "outputs": [],
   "source": [
    "def pragmatic_speaker(obj, alpha=1):\n",
    "    all_vals = []\n",
    "    for curr_utt in utterances:\n",
    "        _, probs = literal_listener(curr_utt, meaning_fn=continuous_meaning)\n",
    "        utility = np.array(probs)\n",
    "        val = np.exp(alpha * (np.log(utility) - cost(curr_utt)))\n",
    "        all_vals.append(val)\n",
    "        \n",
    "    data = normalize_rows(np.array(all_vals).T)\n",
    "    df_idx = [obj[\"string\"] for obj in objects]\n",
    "    df = pd.DataFrame(data, columns=utterances, index=df_idx)\n",
    "    \n",
    "    return df, df.loc[obj[\"string\"]]"
   ]
  },
  {
   "cell_type": "code",
   "execution_count": 17,
   "id": "81aa919e",
   "metadata": {},
   "outputs": [
    {
     "data": {
      "text/html": [
       "<div>\n",
       "<style scoped>\n",
       "    .dataframe tbody tr th:only-of-type {\n",
       "        vertical-align: middle;\n",
       "    }\n",
       "\n",
       "    .dataframe tbody tr th {\n",
       "        vertical-align: top;\n",
       "    }\n",
       "\n",
       "    .dataframe thead th {\n",
       "        text-align: right;\n",
       "    }\n",
       "</style>\n",
       "<table border=\"1\" class=\"dataframe\">\n",
       "  <thead>\n",
       "    <tr style=\"text-align: right;\">\n",
       "      <th></th>\n",
       "      <th>red</th>\n",
       "      <th>blue</th>\n",
       "      <th>pin</th>\n",
       "      <th>dress</th>\n",
       "      <th>red pin</th>\n",
       "      <th>pin red</th>\n",
       "      <th>red dress</th>\n",
       "      <th>dress red</th>\n",
       "      <th>blue pin</th>\n",
       "      <th>pin blue</th>\n",
       "      <th>blue dress</th>\n",
       "      <th>dress blue</th>\n",
       "    </tr>\n",
       "  </thead>\n",
       "  <tbody>\n",
       "    <tr>\n",
       "      <th>red pin</th>\n",
       "      <td>0.073343</td>\n",
       "      <td>0.000011</td>\n",
       "      <td>8.300280e-02</td>\n",
       "      <td>8.554353e-08</td>\n",
       "      <td>4.217598e-01</td>\n",
       "      <td>4.217598e-01</td>\n",
       "      <td>4.346700e-07</td>\n",
       "      <td>4.346700e-07</td>\n",
       "      <td>6.148999e-05</td>\n",
       "      <td>6.148999e-05</td>\n",
       "      <td>6.337221e-11</td>\n",
       "      <td>6.337221e-11</td>\n",
       "    </tr>\n",
       "    <tr>\n",
       "      <th>red dress</th>\n",
       "      <td>0.073343</td>\n",
       "      <td>0.000011</td>\n",
       "      <td>8.554353e-08</td>\n",
       "      <td>8.300280e-02</td>\n",
       "      <td>4.346700e-07</td>\n",
       "      <td>4.346700e-07</td>\n",
       "      <td>4.217598e-01</td>\n",
       "      <td>4.217598e-01</td>\n",
       "      <td>6.337221e-11</td>\n",
       "      <td>6.337221e-11</td>\n",
       "      <td>6.148999e-05</td>\n",
       "      <td>6.148999e-05</td>\n",
       "    </tr>\n",
       "    <tr>\n",
       "      <th>blue pin</th>\n",
       "      <td>0.000011</td>\n",
       "      <td>0.073343</td>\n",
       "      <td>8.300280e-02</td>\n",
       "      <td>8.554353e-08</td>\n",
       "      <td>6.148999e-05</td>\n",
       "      <td>6.148999e-05</td>\n",
       "      <td>6.337221e-11</td>\n",
       "      <td>6.337221e-11</td>\n",
       "      <td>4.217598e-01</td>\n",
       "      <td>4.217598e-01</td>\n",
       "      <td>4.346700e-07</td>\n",
       "      <td>4.346700e-07</td>\n",
       "    </tr>\n",
       "    <tr>\n",
       "      <th>blue dress</th>\n",
       "      <td>0.000011</td>\n",
       "      <td>0.073343</td>\n",
       "      <td>8.554353e-08</td>\n",
       "      <td>8.300280e-02</td>\n",
       "      <td>6.337221e-11</td>\n",
       "      <td>6.337221e-11</td>\n",
       "      <td>6.148999e-05</td>\n",
       "      <td>6.148999e-05</td>\n",
       "      <td>4.346700e-07</td>\n",
       "      <td>4.346700e-07</td>\n",
       "      <td>4.217598e-01</td>\n",
       "      <td>4.217598e-01</td>\n",
       "    </tr>\n",
       "  </tbody>\n",
       "</table>\n",
       "</div>"
      ],
      "text/plain": [
       "                 red      blue           pin         dress       red pin  \\\n",
       "red pin     0.073343  0.000011  8.300280e-02  8.554353e-08  4.217598e-01   \n",
       "red dress   0.073343  0.000011  8.554353e-08  8.300280e-02  4.346700e-07   \n",
       "blue pin    0.000011  0.073343  8.300280e-02  8.554353e-08  6.148999e-05   \n",
       "blue dress  0.000011  0.073343  8.554353e-08  8.300280e-02  6.337221e-11   \n",
       "\n",
       "                 pin red     red dress     dress red      blue pin  \\\n",
       "red pin     4.217598e-01  4.346700e-07  4.346700e-07  6.148999e-05   \n",
       "red dress   4.346700e-07  4.217598e-01  4.217598e-01  6.337221e-11   \n",
       "blue pin    6.148999e-05  6.337221e-11  6.337221e-11  4.217598e-01   \n",
       "blue dress  6.337221e-11  6.148999e-05  6.148999e-05  4.346700e-07   \n",
       "\n",
       "                pin blue    blue dress    dress blue  \n",
       "red pin     6.148999e-05  6.337221e-11  6.337221e-11  \n",
       "red dress   6.337221e-11  6.148999e-05  6.148999e-05  \n",
       "blue pin    4.217598e-01  4.346700e-07  4.346700e-07  \n",
       "blue dress  4.346700e-07  4.217598e-01  4.217598e-01  "
      ]
     },
     "execution_count": 17,
     "metadata": {},
     "output_type": "execute_result"
    }
   ],
   "source": [
    "s1_df, s1_probs = pragmatic_speaker({'color': 'red', 'shape': 'pin', 'string': 'red pin'}, alpha=3)\n",
    "s1_df"
   ]
  },
  {
   "cell_type": "code",
   "execution_count": 18,
   "id": "ed19142b",
   "metadata": {},
   "outputs": [
    {
     "data": {
      "text/plain": [
       "red           7.334289e-02\n",
       "blue          1.069294e-05\n",
       "pin           8.300280e-02\n",
       "dress         8.554353e-08\n",
       "red pin       4.217598e-01\n",
       "pin red       4.217598e-01\n",
       "red dress     4.346700e-07\n",
       "dress red     4.346700e-07\n",
       "blue pin      6.148999e-05\n",
       "pin blue      6.148999e-05\n",
       "blue dress    6.337221e-11\n",
       "dress blue    6.337221e-11\n",
       "Name: red pin, dtype: float64"
      ]
     },
     "execution_count": 18,
     "metadata": {},
     "output_type": "execute_result"
    }
   ],
   "source": [
    "s1_probs"
   ]
  },
  {
   "cell_type": "markdown",
   "id": "759cfa33",
   "metadata": {},
   "source": [
    "In this setup, the utterances 'blue pin' and 'pin blue' have the same probability, which is not what we want. Thus we move to the incremental setting."
   ]
  },
  {
   "cell_type": "markdown",
   "id": "37c3ae4d",
   "metadata": {},
   "source": [
    "## Incremental continuous speaker\n",
    "\n",
    "This gets us to the point of Brandon's squib."
   ]
  },
  {
   "cell_type": "markdown",
   "id": "407f6b9a",
   "metadata": {},
   "source": [
    "#### Incremental continuous meaning function\n",
    "\n",
    "According to Cohn-Gordon (2019):\n",
    "\"For any partial sequence $c$ and set of referents $W$, $[[c]](w) \\in [0, 1]$ is the number of full-utterance extensions of $c$ true in $w$ divided by the number of possible extensions of $c$ into full utterances that are true of any world in $W$.\""
   ]
  },
  {
   "cell_type": "code",
   "execution_count": 19,
   "id": "44f219ed",
   "metadata": {},
   "outputs": [],
   "source": [
    "def inc_cont_meaning(obj, utt):\n",
    "    num_true_extensions = []\n",
    "    num_possible_extensions = []\n",
    "    \n",
    "    utility = 0\n",
    "    for curr_utt in utterances:\n",
    "        \n",
    "        utt_starts_with = curr_utt.startswith(utt)\n",
    "        \n",
    "        if utt_starts_with:\n",
    "            num_possible_extensions.append(curr_utt)\n",
    "            \n",
    "            curr_utt_as_tokens = curr_utt.split()\n",
    "            utility += continuous_meaning(obj, utt)\n",
    "            \n",
    "    return utility/len(num_possible_extensions)"
   ]
  },
  {
   "cell_type": "code",
   "execution_count": 20,
   "id": "867c701b",
   "metadata": {},
   "outputs": [
    {
     "data": {
      "text/plain": [
       "0.9499999999999998"
      ]
     },
     "execution_count": 20,
     "metadata": {},
     "output_type": "execute_result"
    }
   ],
   "source": [
    "inc_cont_meaning({'color': 'red', 'shape': 'pin', 'string': 'red pin'}, 'red')"
   ]
  },
  {
   "cell_type": "markdown",
   "id": "1c317321",
   "metadata": {},
   "source": [
    "#### Word-level literal listener\n",
    "\n",
    "This is pretty much exactly the same as the standard literal listener, except it should only accept a single word as an argument (and maybe a log transform? TBD)."
   ]
  },
  {
   "cell_type": "code",
   "execution_count": 21,
   "id": "63f5999f",
   "metadata": {},
   "outputs": [],
   "source": [
    "def word_level_literal_listener(word, meaning_fn):\n",
    "    # generate the matrix of utterances x world states\n",
    "    all_counts = np.zeros(shape=(len(utterances), len(objects)))\n",
    "    for i in range(len(utterances)):\n",
    "        for j in range(len(objects)):\n",
    "            curr_utt = utterances[i]\n",
    "            curr_obj = objects[j]\n",
    "\n",
    "            # take the log here(?)\n",
    "            all_counts[i, j] = np.log(meaning_fn(curr_obj, curr_utt))\n",
    "    \n",
    "    data = normalize_rows(all_counts)\n",
    "    df_cols = [obj[\"string\"] for obj in objects]\n",
    "    df = pd.DataFrame(data, columns=df_cols, index=utterances)\n",
    "    return df, df.loc[word]"
   ]
  },
  {
   "cell_type": "code",
   "execution_count": 22,
   "id": "e75d30d7",
   "metadata": {},
   "outputs": [
    {
     "data": {
      "text/html": [
       "<div>\n",
       "<style scoped>\n",
       "    .dataframe tbody tr th:only-of-type {\n",
       "        vertical-align: middle;\n",
       "    }\n",
       "\n",
       "    .dataframe tbody tr th {\n",
       "        vertical-align: top;\n",
       "    }\n",
       "\n",
       "    .dataframe thead th {\n",
       "        text-align: right;\n",
       "    }\n",
       "</style>\n",
       "<table border=\"1\" class=\"dataframe\">\n",
       "  <thead>\n",
       "    <tr style=\"text-align: right;\">\n",
       "      <th></th>\n",
       "      <th>red pin</th>\n",
       "      <th>red dress</th>\n",
       "      <th>blue pin</th>\n",
       "      <th>blue dress</th>\n",
       "    </tr>\n",
       "  </thead>\n",
       "  <tbody>\n",
       "    <tr>\n",
       "      <th>red</th>\n",
       "      <td>0.008417</td>\n",
       "      <td>0.008417</td>\n",
       "      <td>0.491583</td>\n",
       "      <td>0.491583</td>\n",
       "    </tr>\n",
       "    <tr>\n",
       "      <th>blue</th>\n",
       "      <td>0.491583</td>\n",
       "      <td>0.491583</td>\n",
       "      <td>0.008417</td>\n",
       "      <td>0.008417</td>\n",
       "    </tr>\n",
       "    <tr>\n",
       "      <th>pin</th>\n",
       "      <td>0.001089</td>\n",
       "      <td>0.498911</td>\n",
       "      <td>0.001089</td>\n",
       "      <td>0.498911</td>\n",
       "    </tr>\n",
       "    <tr>\n",
       "      <th>dress</th>\n",
       "      <td>0.498911</td>\n",
       "      <td>0.001089</td>\n",
       "      <td>0.498911</td>\n",
       "      <td>0.001089</td>\n",
       "    </tr>\n",
       "    <tr>\n",
       "      <th>red pin</th>\n",
       "      <td>0.004003</td>\n",
       "      <td>0.303858</td>\n",
       "      <td>0.196142</td>\n",
       "      <td>0.495997</td>\n",
       "    </tr>\n",
       "    <tr>\n",
       "      <th>pin red</th>\n",
       "      <td>0.004003</td>\n",
       "      <td>0.303858</td>\n",
       "      <td>0.196142</td>\n",
       "      <td>0.495997</td>\n",
       "    </tr>\n",
       "    <tr>\n",
       "      <th>red dress</th>\n",
       "      <td>0.303858</td>\n",
       "      <td>0.004003</td>\n",
       "      <td>0.495997</td>\n",
       "      <td>0.196142</td>\n",
       "    </tr>\n",
       "    <tr>\n",
       "      <th>dress red</th>\n",
       "      <td>0.303858</td>\n",
       "      <td>0.004003</td>\n",
       "      <td>0.495997</td>\n",
       "      <td>0.196142</td>\n",
       "    </tr>\n",
       "    <tr>\n",
       "      <th>blue pin</th>\n",
       "      <td>0.196142</td>\n",
       "      <td>0.495997</td>\n",
       "      <td>0.004003</td>\n",
       "      <td>0.303858</td>\n",
       "    </tr>\n",
       "    <tr>\n",
       "      <th>pin blue</th>\n",
       "      <td>0.196142</td>\n",
       "      <td>0.495997</td>\n",
       "      <td>0.004003</td>\n",
       "      <td>0.303858</td>\n",
       "    </tr>\n",
       "    <tr>\n",
       "      <th>blue dress</th>\n",
       "      <td>0.495997</td>\n",
       "      <td>0.196142</td>\n",
       "      <td>0.303858</td>\n",
       "      <td>0.004003</td>\n",
       "    </tr>\n",
       "    <tr>\n",
       "      <th>dress blue</th>\n",
       "      <td>0.495997</td>\n",
       "      <td>0.196142</td>\n",
       "      <td>0.303858</td>\n",
       "      <td>0.004003</td>\n",
       "    </tr>\n",
       "  </tbody>\n",
       "</table>\n",
       "</div>"
      ],
      "text/plain": [
       "             red pin  red dress  blue pin  blue dress\n",
       "red         0.008417   0.008417  0.491583    0.491583\n",
       "blue        0.491583   0.491583  0.008417    0.008417\n",
       "pin         0.001089   0.498911  0.001089    0.498911\n",
       "dress       0.498911   0.001089  0.498911    0.001089\n",
       "red pin     0.004003   0.303858  0.196142    0.495997\n",
       "pin red     0.004003   0.303858  0.196142    0.495997\n",
       "red dress   0.303858   0.004003  0.495997    0.196142\n",
       "dress red   0.303858   0.004003  0.495997    0.196142\n",
       "blue pin    0.196142   0.495997  0.004003    0.303858\n",
       "pin blue    0.196142   0.495997  0.004003    0.303858\n",
       "blue dress  0.495997   0.196142  0.303858    0.004003\n",
       "dress blue  0.495997   0.196142  0.303858    0.004003"
      ]
     },
     "execution_count": 22,
     "metadata": {},
     "output_type": "execute_result"
    }
   ],
   "source": [
    "df_word_level_l0, _ = word_level_literal_listener('red', inc_cont_meaning)\n",
    "df_word_level_l0"
   ]
  },
  {
   "cell_type": "markdown",
   "id": "1321b5ce",
   "metadata": {},
   "source": [
    "#### Word-level pragmatic speaker\n",
    "\n",
    "First, we define the helper function `get_possible_completions`:"
   ]
  },
  {
   "cell_type": "code",
   "execution_count": 23,
   "id": "39849b66",
   "metadata": {},
   "outputs": [],
   "source": [
    "def get_possible_completions(utt):\n",
    "    \"\"\"\n",
    "    Given a partial utterance, return all the possible completions\n",
    "    \"\"\"\n",
    "    max_utt_len = len(utt.split()) + 1\n",
    "    \n",
    "    possible_completions = []\n",
    "    for curr_utt in utterances:\n",
    "        if curr_utt.startswith(utt) and len(curr_utt.split()) <= max_utt_len:\n",
    "            possible_completions.append(curr_utt)\n",
    "            \n",
    "    return possible_completions"
   ]
  },
  {
   "cell_type": "code",
   "execution_count": 24,
   "id": "ccb7ee67",
   "metadata": {},
   "outputs": [
    {
     "data": {
      "text/plain": [
       "['red', 'red pin', 'red dress']"
      ]
     },
     "execution_count": 24,
     "metadata": {},
     "output_type": "execute_result"
    }
   ],
   "source": [
    "get_possible_completions('red')"
   ]
  },
  {
   "cell_type": "markdown",
   "id": "8446f849",
   "metadata": {},
   "source": [
    "Now we can define the word-level pragmatic speaker. The key difference here between this and standard RSA is that you are only iterating over the utterances that are possible completions of the context, and _not_ all possible utterances. Thus, we need to pass in `context` as an argument."
   ]
  },
  {
   "cell_type": "code",
   "execution_count": 25,
   "id": "0f70c262",
   "metadata": {},
   "outputs": [],
   "source": [
    "def word_level_pragmatic_speaker(obj, context, alpha=1):\n",
    "    all_vals = []\n",
    "    possible_utterances = get_possible_completions(context)\n",
    "    for curr_utt in possible_utterances:\n",
    "        _, probs = literal_listener(curr_utt, meaning_fn=inc_cont_meaning) # specify meaning_fn here\n",
    "        utility = np.array(probs)\n",
    "        val = np.exp(alpha * np.log(utility) - cost(curr_utt))\n",
    "        all_vals.append(val)\n",
    "\n",
    "    data = normalize_rows(np.array(all_vals).T)\n",
    "    df_idx = [obj[\"string\"] for obj in objects]\n",
    "    df = pd.DataFrame(data, columns=possible_utterances, index=df_idx)\n",
    "    \n",
    "    return df, df.loc[obj[\"string\"]]"
   ]
  },
  {
   "cell_type": "code",
   "execution_count": 26,
   "id": "89bee466",
   "metadata": {},
   "outputs": [
    {
     "data": {
      "text/html": [
       "<div>\n",
       "<style scoped>\n",
       "    .dataframe tbody tr th:only-of-type {\n",
       "        vertical-align: middle;\n",
       "    }\n",
       "\n",
       "    .dataframe tbody tr th {\n",
       "        vertical-align: top;\n",
       "    }\n",
       "\n",
       "    .dataframe thead th {\n",
       "        text-align: right;\n",
       "    }\n",
       "</style>\n",
       "<table border=\"1\" class=\"dataframe\">\n",
       "  <thead>\n",
       "    <tr style=\"text-align: right;\">\n",
       "      <th></th>\n",
       "      <th>red</th>\n",
       "      <th>red pin</th>\n",
       "      <th>red dress</th>\n",
       "    </tr>\n",
       "  </thead>\n",
       "  <tbody>\n",
       "    <tr>\n",
       "      <th>red pin</th>\n",
       "      <td>0.355913</td>\n",
       "      <td>0.637646</td>\n",
       "      <td>0.006441</td>\n",
       "    </tr>\n",
       "    <tr>\n",
       "      <th>red dress</th>\n",
       "      <td>0.355913</td>\n",
       "      <td>0.006441</td>\n",
       "      <td>0.637646</td>\n",
       "    </tr>\n",
       "    <tr>\n",
       "      <th>blue pin</th>\n",
       "      <td>0.355913</td>\n",
       "      <td>0.637646</td>\n",
       "      <td>0.006441</td>\n",
       "    </tr>\n",
       "    <tr>\n",
       "      <th>blue dress</th>\n",
       "      <td>0.355913</td>\n",
       "      <td>0.006441</td>\n",
       "      <td>0.637646</td>\n",
       "    </tr>\n",
       "  </tbody>\n",
       "</table>\n",
       "</div>"
      ],
      "text/plain": [
       "                 red   red pin  red dress\n",
       "red pin     0.355913  0.637646   0.006441\n",
       "red dress   0.355913  0.006441   0.637646\n",
       "blue pin    0.355913  0.637646   0.006441\n",
       "blue dress  0.355913  0.006441   0.637646"
      ]
     },
     "execution_count": 26,
     "metadata": {},
     "output_type": "execute_result"
    }
   ],
   "source": [
    "df_word_level_s1, _ = word_level_pragmatic_speaker({'color': 'red', 'shape': 'pin', 'string': 'red pin'}, context = 'red')\n",
    "df_word_level_s1"
   ]
  },
  {
   "cell_type": "code",
   "execution_count": 27,
   "id": "da630090",
   "metadata": {},
   "outputs": [],
   "source": [
    "def incremental_pragmatic_speaker(obj, utt):\n",
    "    all_vals = []\n",
    "    utt_len = len(utt.split())\n",
    "    context = ''\n",
    "    val = 1\n",
    "    for i in range(utt_len):\n",
    "\n",
    "        _, probs = word_level_pragmatic_speaker(obj, context, alpha=5)\n",
    "        partial_utt = \" \".join(utt.split()[:i+1])\n",
    "        index_of_partial_utt = list(probs.index).index(partial_utt)\n",
    "\n",
    "        val *= list(probs)[index_of_partial_utt]\n",
    "        \n",
    "        context = partial_utt\n",
    "\n",
    "    return val"
   ]
  },
  {
   "cell_type": "code",
   "execution_count": 28,
   "id": "99de7633",
   "metadata": {},
   "outputs": [
    {
     "data": {
      "text/plain": [
       "0.43290650693812754"
      ]
     },
     "execution_count": 28,
     "metadata": {},
     "output_type": "execute_result"
    }
   ],
   "source": [
    "incremental_pragmatic_speaker({'color': 'red', 'shape': 'pin', 'string': 'red pin'}, 'red pin')"
   ]
  },
  {
   "cell_type": "code",
   "execution_count": 29,
   "id": "96492748",
   "metadata": {},
   "outputs": [
    {
     "data": {
      "text/plain": [
       "0.5278132858034454"
      ]
     },
     "execution_count": 29,
     "metadata": {},
     "output_type": "execute_result"
    }
   ],
   "source": [
    "incremental_pragmatic_speaker({'color': 'red', 'shape': 'pin', 'string': 'red pin'}, 'pin red')"
   ]
  },
  {
   "cell_type": "code",
   "execution_count": null,
   "id": "666d5858",
   "metadata": {},
   "outputs": [],
   "source": []
  }
 ],
 "metadata": {
  "kernelspec": {
   "display_name": "Python 3 (ipykernel)",
   "language": "python",
   "name": "python3"
  },
  "language_info": {
   "codemirror_mode": {
    "name": "ipython",
    "version": 3
   },
   "file_extension": ".py",
   "mimetype": "text/x-python",
   "name": "python",
   "nbconvert_exporter": "python",
   "pygments_lexer": "ipython3",
   "version": "3.9.7"
  }
 },
 "nbformat": 4,
 "nbformat_minor": 5
}
